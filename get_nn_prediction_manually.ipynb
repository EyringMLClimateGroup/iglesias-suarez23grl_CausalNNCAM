{
 "cells": [
  {
   "cell_type": "markdown",
   "metadata": {},
   "source": [
    "# Manual Neural Network predictions"
   ]
  },
  {
   "cell_type": "markdown",
   "metadata": {},
   "source": [
    "This notebook provides a Neural Network's prediction \"manually\" providing the input."
   ]
  },
  {
   "cell_type": "code",
   "execution_count": 1,
   "metadata": {},
   "outputs": [],
   "source": [
    "from pathlib                 import Path\n",
    "from tensorflow.keras.models import load_model\n",
    "import numpy                 as     np"
   ]
  },
  {
   "cell_type": "markdown",
   "metadata": {},
   "source": [
    "## SingleNN"
   ]
  },
  {
   "cell_type": "code",
   "execution_count": 2,
   "metadata": {},
   "outputs": [],
   "source": [
    "repoPath   = '/work/bd1179/b309172/analysis/usmile/causality_convection/python/causalnncam/'\n",
    "modelPath  = 'models_causal_links_train-tb/'\n",
    "modelType  = 'SingleNN/'\n",
    "modelSetup = 'hl_256_256_256_256_256_256_256_256_256-act_relu-e_15/'\n",
    "modelnm    = '1_20_model.h5' # tphystnd (691hPa)\n",
    "model      = Path(repoPath+modelPath+modelType+modelSetup,modelnm)"
   ]
  },
  {
   "cell_type": "code",
   "execution_count": 3,
   "metadata": {},
   "outputs": [],
   "source": [
    "singlenn   = load_model(model, compile=False)"
   ]
  },
  {
   "cell_type": "code",
   "execution_count": 4,
   "metadata": {},
   "outputs": [],
   "source": [
    "X = np.array([[ 5.83878682e-05,  6.02780128e-05,  9.85727456e-05,\n",
    "         7.83009455e-05,  7.34954665e-05,  8.71881784e-05,\n",
    "         6.99401426e-05,  5.16169166e-05, -5.21768561e-06,\n",
    "        -1.62401004e-04, -5.63145382e-04, -1.74198765e-03,\n",
    "        -4.41177702e-03, -9.85977054e-03, -2.05607954e-02,\n",
    "        -3.92139815e-02, -5.71770482e-02, -6.84202164e-02,\n",
    "        -7.86696374e-02, -9.60057974e-02, -1.22249402e-01,\n",
    "        -1.54130772e-01, -1.90240771e-01, -2.02668980e-01,\n",
    "        -2.09947839e-01, -2.15463683e-01, -2.15546891e-01,\n",
    "        -2.13983044e-01, -2.11111456e-01, -2.04661980e-01,\n",
    "         5.87574095e-02, -5.26738577e-02, -1.17504247e-01,\n",
    "         9.30819195e-04, -9.30487439e-02, -9.62769240e-02,\n",
    "         5.24026901e-03,  3.36893164e-02, -3.62389795e-02,\n",
    "        -1.35643288e-01, -1.42821059e-01, -1.72225848e-01,\n",
    "        -2.12762028e-01, -3.14704806e-01, -3.56949419e-01,\n",
    "        -3.80292803e-01, -3.74010146e-01, -3.29976559e-01,\n",
    "        -2.36099705e-01, -1.39434189e-01, -5.72877489e-02,\n",
    "        -6.37141010e-03,  3.12518589e-02,  5.27999550e-02,\n",
    "         7.09455386e-02,  8.96202475e-02,  1.05973504e-01,\n",
    "         1.20842941e-01,  1.30504861e-01,  1.42265946e-01,\n",
    "         1.00079840e-02,  1.22087868e-02,  1.08685894e-02,\n",
    "         8.94176308e-03,  6.27116207e-03,  9.45362728e-03,\n",
    "         9.72500071e-03,  1.48694040e-02,  1.58066880e-02,\n",
    "         1.62848309e-02,  1.75221451e-02,  1.69256367e-02,\n",
    "         1.51481237e-02,  1.19042015e-02,  4.71342774e-03,\n",
    "        -2.03870446e-03, -4.52256529e-03, -1.27204014e-02,\n",
    "        -2.28584222e-02, -3.20021808e-02, -3.43322530e-02,\n",
    "        -3.07257529e-02, -2.89640930e-02, -2.92290542e-02,\n",
    "        -2.87893470e-02, -2.73947977e-02, -3.00167613e-02,\n",
    "        -3.27523760e-02, -3.26384604e-02, -3.48451100e-02,\n",
    "        -6.47627354e-01,  1.12768568e-01, -1.91029254e-02,\n",
    "        -6.66846186e-02]])"
   ]
  },
  {
   "cell_type": "code",
   "execution_count": 5,
   "metadata": {},
   "outputs": [
    {
     "name": "stdout",
     "output_type": "stream",
     "text": [
      "[[-0.00624632]]\n"
     ]
    }
   ],
   "source": [
    "P = singlenn.predict(X)\n",
    "print(P)"
   ]
  },
  {
   "cell_type": "markdown",
   "metadata": {},
   "source": [
    "## CausalSingleNN"
   ]
  },
  {
   "cell_type": "markdown",
   "metadata": {},
   "source": [
    "This is just an offline test of a CausalSingleNN prediction manually."
   ]
  },
  {
   "cell_type": "code",
   "execution_count": 20,
   "metadata": {},
   "outputs": [],
   "source": [
    "repoPath   = '/work/bd1179/b309172/analysis/usmile/causality_convection/python/causalnncam/'\n",
    "modelPath  = 'models_causal_links_train-tb/'\n",
    "modelType  = 'CausalSingleNN/'\n",
    "modelSetup = 'a0.01-t0.2/hl_256_256_256_256_256_256_256_256_256-act_relu-e_15/'\n",
    "modelnm    = '1_20_model.h5' # tphystnd (691hPa)\n",
    "model      = Path(repoPath+modelPath+modelType+modelSetup,modelnm)"
   ]
  },
  {
   "cell_type": "code",
   "execution_count": 21,
   "metadata": {},
   "outputs": [],
   "source": [
    "causalnn   = load_model(model, compile=False)"
   ]
  },
  {
   "cell_type": "code",
   "execution_count": 26,
   "metadata": {},
   "outputs": [],
   "source": [
    "inputs = [18, 19, 20, 21, 22, 23, 24, 25, 28, 29, 49, 85, 86, 87, 88, 89, 90, 91, 92, 93]"
   ]
  },
  {
   "cell_type": "code",
   "execution_count": 42,
   "metadata": {},
   "outputs": [
    {
     "name": "stdout",
     "output_type": "stream",
     "text": [
      "Lenght of the causally-linked input array (offline): 20\n"
     ]
    }
   ],
   "source": [
    "print(f'Lenght of the causally-linked input array (offline): {len(inputs)}')"
   ]
  },
  {
   "cell_type": "code",
   "execution_count": 32,
   "metadata": {},
   "outputs": [
    {
     "name": "stdout",
     "output_type": "stream",
     "text": [
      "[[-0.00592081]]\n"
     ]
    }
   ],
   "source": [
    "P = causalnn.predict(X[:,inputs])\n",
    "print(P)"
   ]
  },
  {
   "cell_type": "markdown",
   "metadata": {},
   "source": [
    "**Let's compare dT/dt (691 hPa) prediction online vs offline**"
   ]
  },
  {
   "cell_type": "code",
   "execution_count": 40,
   "metadata": {},
   "outputs": [
    {
     "name": "stdout",
     "output_type": "stream",
     "text": [
      "Lenght of the X_cam input array (online): 20\n"
     ]
    }
   ],
   "source": [
    "'''\n",
    "This an input vector fed to the CausalSingleNN (dT/dt at 691 hPA) coupled to CAM.\n",
    "'''\n",
    "X_cam = np.array([[-7.7804841E-02,-8.8779911E-02,-0.1139728,     -0.1564554,\n",
    "                   -0.1939511,    -0.2067909,    -0.2107342,     -0.2117043,\n",
    "                   -0.2088978,    -0.2069735,    -0.1278916,     -3.1902851E-04,\n",
    "                   -2.2156598E-04,-5.1950052E-04,-2.9789491E-04, -6.9367088E-04,\n",
    "                   -0.7877533,    0.1144325,     -2.6930610E-02, -7.1562953E-02]])\n",
    "print(f'Lenght of the X_cam input array (online): {len(X_cam[0,:])}')"
   ]
  },
  {
   "cell_type": "code",
   "execution_count": 36,
   "metadata": {},
   "outputs": [
    {
     "name": "stdout",
     "output_type": "stream",
     "text": [
      "[[-0.00546273]]\n"
     ]
    }
   ],
   "source": [
    "'''\n",
    "This is the CausalSingleNN (dT/dt at 691 hPA) online prediction. \n",
    "'''\n",
    "P_cam = -5.462731234729290E-003\n",
    "print([[round(P_cam,8)]])"
   ]
  },
  {
   "cell_type": "code",
   "execution_count": 38,
   "metadata": {},
   "outputs": [
    {
     "name": "stdout",
     "output_type": "stream",
     "text": [
      "[[-0.00546273]]\n"
     ]
    }
   ],
   "source": [
    "'''\n",
    "This is the CausalSingleNN (dT/dt at 691 hPA) offline prediction.\n",
    "'''\n",
    "P_off = causalnn.predict(X_cam)\n",
    "print(P_off)"
   ]
  },
  {
   "cell_type": "code",
   "execution_count": null,
   "metadata": {},
   "outputs": [],
   "source": []
  }
 ],
 "metadata": {
  "kernelspec": {
   "display_name": "causalnncam",
   "language": "python",
   "name": "causalnncam"
  },
  "language_info": {
   "codemirror_mode": {
    "name": "ipython",
    "version": 3
   },
   "file_extension": ".py",
   "mimetype": "text/x-python",
   "name": "python",
   "nbconvert_exporter": "python",
   "pygments_lexer": "ipython3",
   "version": "3.8.5"
  }
 },
 "nbformat": 4,
 "nbformat_minor": 4
}
