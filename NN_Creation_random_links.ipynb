{
 "cells": [
  {
   "cell_type": "markdown",
   "metadata": {},
   "source": [
    "# Neural Network creation\n",
    "\n",
    "This script takes results from \"aggregated results\", and generates neural\n",
    "networks based on them.\n"
   ]
  },
  {
   "cell_type": "code",
   "execution_count": null,
   "metadata": {},
   "outputs": [],
   "source": [
    "import sys, time, datetime\n",
    "from datetime import datetime as dt\n",
    "t_init = time.time()"
   ]
  },
  {
   "cell_type": "code",
   "execution_count": null,
   "metadata": {
    "tags": []
   },
   "outputs": [],
   "source": [
    "import sys\n",
    "from utils.setup import SetupNeuralNetworks\n",
    "\n",
    "argv  = sys.argv[1:]\n",
    "# argv  = [\"-c\", \"./nn_config/220308_rasp_etal_2018_optimized_threshold/random_quantile-0.59/cfg_NN_Creation_rasp_parcorr_thrs-opt-dict_flns.yml\"]\n",
    "# argv  = [\"-c\", \"./nn_config/220308_rasp_etal_2018_optimized_threshold/randcorr_quantile-0.59/cfg_NN_Creation_rasp_parcorr_thrs-opt-dict_phq-tphystnd_25.yml\"]\n",
    "\n",
    "setup = SetupNeuralNetworks(argv)\n"
   ]
  },
  {
   "cell_type": "markdown",
   "metadata": {},
   "source": [
    "One can check both, attributes and methods in **setup** by, for example:\\\n",
    "**dir(setup)\\\n",
    "setup.__dict__** # setup.__dict__.keys() & setup.__dict__.values()"
   ]
  },
  {
   "cell_type": "markdown",
   "metadata": {},
   "source": [
    "# Create Neural Networks"
   ]
  },
  {
   "cell_type": "code",
   "execution_count": null,
   "metadata": {},
   "outputs": [],
   "source": [
    "# Options\n",
    "# random         = False \n",
    "# threshold_dict = False\n",
    "random         = sys.argv[3]\n",
    "threshold_dict = sys.argv[4]\n",
    "\n",
    "if threshold_dict: \n",
    "    setup.thrs_argv = ['-c', './nn_config/quantile_dicts/001_quantile_thresholds_mse-6.yml']\n",
    "else:\n",
    "    setup.thrs_argv = threshold_dict\n",
    "\n",
    "setup.random=random\n",
    "if random:\n",
    "    setup.independence_test = 'random'\n",
    "else:\n",
    "    setup.numparents_argv = ['-c', './nn_config/quantile_dicts/001_quantile-0.59_numparents.yml']\n",
    "    "
   ]
  },
  {
   "cell_type": "code",
   "execution_count": null,
   "metadata": {
    "tags": []
   },
   "outputs": [],
   "source": [
    "from neural_networks.models import generate_models\n",
    "\n",
    "model_descriptions = generate_models(setup)"
   ]
  },
  {
   "cell_type": "markdown",
   "metadata": {},
   "source": [
    "**model_descriptions** is a list with all models to be trained. Note, however, that each element in model_description is a class obj. and one can check both, attributes and methods by for example:\\\n",
    "dir(dir(model_descriptions[0]))\\\n",
    "model_descriptions[0].__dict__** # model_descriptions[0].__dict__.keys() & model_descriptions[0].__dict__.values()"
   ]
  },
  {
   "cell_type": "markdown",
   "metadata": {},
   "source": [
    "# Training"
   ]
  },
  {
   "cell_type": "markdown",
   "metadata": {},
   "source": [
    "Train all models in the model list and store the results."
   ]
  },
  {
   "cell_type": "code",
   "execution_count": null,
   "metadata": {},
   "outputs": [],
   "source": [
    "from neural_networks.training import train_all_models\n",
    "\n",
    "train_all_models(model_descriptions, setup)"
   ]
  },
  {
   "cell_type": "code",
   "execution_count": null,
   "metadata": {},
   "outputs": [],
   "source": [
    "t_total = datetime.timedelta(\n",
    "    seconds=time.time() - t_init\n",
    ")\n",
    "print(f\"{dt.now()} Finished. Time: {t_total}\")"
   ]
  },
  {
   "cell_type": "code",
   "execution_count": null,
   "metadata": {},
   "outputs": [],
   "source": []
  }
 ],
 "metadata": {
  "kernelspec": {
   "display_name": "causalnncam",
   "language": "python",
   "name": "causalnncam"
  },
  "language_info": {
   "codemirror_mode": {
    "name": "ipython",
    "version": 3
   },
   "file_extension": ".py",
   "mimetype": "text/x-python",
   "name": "python",
   "nbconvert_exporter": "python",
   "pygments_lexer": "ipython3",
   "version": "3.8.13"
  }
 },
 "nbformat": 4,
 "nbformat_minor": 4
}
