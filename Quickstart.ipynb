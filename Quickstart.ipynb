{
 "cells": [
  {
   "cell_type": "markdown",
   "metadata": {},
   "source": [
    "Introduction\n",
    "============\n",
    "\n",
    "This guide provides a quick introduction to the steps required to perform a causal analysis on the data, evaluate it and generate neural networks with the results."
   ]
  },
  {
   "cell_type": "markdown",
   "metadata": {},
   "source": [
    "Running and configuration\n",
    "-------------\n",
    "\n",
    "To execute these steps, a configuration file must be provided.\n",
    "Each of the steps described here can be executed independently from the others.\n",
    "To facilitate that, the configuration files can be read independently from each other.\n",
    "However, all the information can be included in one unique configuration file."
   ]
  },
  {
   "cell_type": "code",
   "execution_count": null,
   "metadata": {},
   "outputs": [],
   "source": [
    "# import sys\n",
    "\n",
    "# argv = sys.argv[1:]\n",
    "argv_causal = ['-c', 'config/quickstart/cfg_causal_analysis.yml']\n",
    "argv_eval = ['-c', 'config/quickstart/cfg_evaluation.yml']\n",
    "argv_nn = ['-c', 'config/quickstart/cfg_neural_networks.yml']"
   ]
  },
  {
   "cell_type": "markdown",
   "metadata": {},
   "source": [
    "# 1. Causal Analysis\n",
    "\n",
    "The first step is to perform a causal analysis on the data."
   ]
  },
  {
   "cell_type": "code",
   "execution_count": null,
   "metadata": {},
   "outputs": [],
   "source": [
    "from utils.setup import SetupPCAnalysis\n",
    "setup_causal = SetupPCAnalysis(argv_causal)"
   ]
  },
  {
   "cell_type": "code",
   "execution_count": null,
   "metadata": {},
   "outputs": [],
   "source": [
    "from utils.processing import proc_analysis\n",
    "proc_analysis(\n",
    "    setup_causal.analysis,\n",
    "    setup_causal.gridpoints,\n",
    "    setup_causal.spcam_inputs,\n",
    "    setup_causal.spcam_outputs,\n",
    "    setup_causal.cond_ind_test,\n",
    "    setup_causal.ind_test_name,\n",
    "    setup_causal.pc_alphas,\n",
    "    setup_causal.levels,\n",
    "    setup_causal.parents_idx_levs,\n",
    "    setup_causal.children_idx_levs,\n",
    "    setup_causal.idx_lats,\n",
    "    setup_causal.idx_lons,\n",
    "    setup_causal.output_file_pattern,\n",
    "    setup_causal.output_folder,\n",
    "    setup_causal.overwrite_pc,\n",
    "    setup_causal.verbosity_pc\n",
    ")"
   ]
  },
  {
   "cell_type": "markdown",
   "metadata": {},
   "source": [
    "The results of the causal analysis will be available in the `output_folder` specified in the configuration.\n",
    "There will be a file per each output and gridpoint."
   ]
  },
  {
   "cell_type": "markdown",
   "metadata": {},
   "source": [
    "# 2. Evaluate causal analysis\n",
    "The second step is to evaluate the results achieved from the causal analysis.\n",
    "As for several reasons the parents found for each variable and level can be different, a percentage threshold is used to decide which parents will be selected.\n",
    "An input will be considered a parent if the percentage of gridpoints in which the causal analysis identified it as a parent is higher than the threshold."
   ]
  },
  {
   "cell_type": "code",
   "execution_count": null,
   "metadata": {},
   "outputs": [],
   "source": [
    "from utils.setup import SetupPCMCIAggregation\n",
    "import utils.pcmci_aggregation as aggregation\n",
    "\n",
    "setup_eval = SetupPCMCIAggregation(argv_eval)"
   ]
  },
  {
   "cell_type": "markdown",
   "metadata": {},
   "source": [
    "First, the results of each output are collected from the different gridpoints."
   ]
  },
  {
   "cell_type": "code",
   "execution_count": null,
   "metadata": {},
   "outputs": [],
   "source": [
    "collected_results, errors = aggregation.collect_results(setup_eval)"
   ]
  },
  {
   "cell_type": "markdown",
   "metadata": {},
   "source": [
    "We can check if any errors were detected while collecting the results and in which files.\n",
    "These are usually missing files, for example for configuring the wrong folder or in case the causal analysis has not been done for the requested region."
   ]
  },
  {
   "cell_type": "code",
   "execution_count": null,
   "metadata": {},
   "outputs": [],
   "source": [
    "aggregation.print_errors(errors)"
   ]
  },
  {
   "cell_type": "markdown",
   "metadata": {},
   "source": [
    "The `collected_results` can then be aggregated and filtered by threshold."
   ]
  },
  {
   "cell_type": "code",
   "execution_count": null,
   "metadata": {},
   "outputs": [],
   "source": [
    "aggregated_results, var_names_parents = aggregation.aggregate_results(\n",
    "    collected_results, setup_eval)"
   ]
  },
  {
   "cell_type": "markdown",
   "metadata": {},
   "source": [
    "The resulting object can then be examined or plotted. If necessary, adjustments can be made."
   ]
  },
  {
   "cell_type": "code",
   "execution_count": null,
   "metadata": {},
   "outputs": [],
   "source": [
    "aggregation.print_aggregated_results(var_names_parents, aggregated_results)"
   ]
  },
  {
   "cell_type": "code",
   "execution_count": null,
   "metadata": {},
   "outputs": [],
   "source": [
    "# TODO This is crashing and restarting the kernel, without showing failure\n",
    "aggregation.plot_aggregated_results(\n",
    "    var_names_parents, aggregated_results, setup_eval)"
   ]
  },
  {
   "cell_type": "markdown",
   "metadata": {},
   "source": [
    "# 3. Generate causal networks\n",
    "The information obtained from the previous step can then be used to generate the causal neural networks.\n",
    "\n",
    "There is also the possibility to generate \"single neural networks\", which use all inputs  and, thusly, doesn't require the causal analysis.\n",
    "\n",
    "The models are first generated without being trained."
   ]
  },
  {
   "cell_type": "code",
   "execution_count": null,
   "metadata": {},
   "outputs": [],
   "source": [
    "from utils.setup import SetupNeuralNetworks\n",
    "\n",
    "setup_nn = SetupNeuralNetworks(argv_nn)"
   ]
  },
  {
   "cell_type": "code",
   "execution_count": null,
   "metadata": {},
   "outputs": [],
   "source": [
    "# from neural_networks.models import generate_models\n",
    "\n",
    "# model_descriptions = generate_models(setup_nn) # This does its own evaluation"
   ]
  },
  {
   "cell_type": "code",
   "execution_count": null,
   "metadata": {},
   "outputs": [],
   "source": [
    "from neural_networks.models import generate_all_causal_single_nn\n",
    "\n",
    "model_descriptions = generate_all_causal_single_nn(setup_nn, aggregated_results)"
   ]
  },
  {
   "cell_type": "code",
   "execution_count": null,
   "metadata": {},
   "outputs": [],
   "source": [
    "from neural_networks.training import train_all_models\n",
    "\n",
    "train_all_models(model_descriptions, setup_nn)"
   ]
  }
 ],
 "metadata": {
  "kernelspec": {
   "display_name": "CausalNNCAM",
   "language": "python",
   "name": "causalnncam"
  },
  "language_info": {
   "codemirror_mode": {
    "name": "ipython",
    "version": 3
   },
   "file_extension": ".py",
   "mimetype": "text/x-python",
   "name": "python",
   "nbconvert_exporter": "python",
   "pygments_lexer": "ipython3",
   "version": "3.7.10"
  }
 },
 "nbformat": 4,
 "nbformat_minor": 4
}
