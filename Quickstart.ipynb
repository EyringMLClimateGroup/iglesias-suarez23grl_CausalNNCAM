{
 "cells": [
  {
   "cell_type": "markdown",
   "metadata": {},
   "source": [
    "Introduction\n",
    "============\n",
    "\n",
    "This guide provides a quick introduction to the steps required to perform a causal analysis on the data, evaluate it and generate neural networks with the results."
   ]
  },
  {
   "cell_type": "markdown",
   "metadata": {},
   "source": [
    "Running and configuration\n",
    "-------------\n",
    "\n",
    "To execute these steps, a configuration file must be provided.\n",
    "Each of the steps described here can be executed independently from the others.\n",
    "To facilitate that, the configuration files can be read independently from each other.\n",
    "However, all the information can be included in one unique configuration file."
   ]
  },
  {
   "cell_type": "code",
   "execution_count": null,
   "metadata": {},
   "outputs": [],
   "source": [
    "# import sys\n",
    "\n",
    "# argv = sys.argv[1:]\n",
    "argv_causal = ['-c', 'config/quickstart/cfg_causal_analysis.yml']\n",
    "argv_eval = ['-c', 'config/quickstart/cfg_evaluation.yml']\n",
    "argv_nn = ['-c', 'config/quickstart/cfg_neural_networks.yml']"
   ]
  },
  {
   "cell_type": "markdown",
   "metadata": {},
   "source": [
    "1. Causal Analysis\n",
    "=================\n",
    "\n",
    "The first step is to perform a causal analysis on the data."
   ]
  },
  {
   "cell_type": "code",
   "execution_count": null,
   "metadata": {},
   "outputs": [],
   "source": []
  }
 ],
 "metadata": {
  "kernelspec": {
   "display_name": "CausalNNCAM",
   "language": "python",
   "name": "causalnncam"
  },
  "language_info": {
   "codemirror_mode": {
    "name": "ipython",
    "version": 3
   },
   "file_extension": ".py",
   "mimetype": "text/x-python",
   "name": "python",
   "nbconvert_exporter": "python",
   "pygments_lexer": "ipython3",
   "version": "3.7.10"
  }
 },
 "nbformat": 4,
 "nbformat_minor": 4
}
