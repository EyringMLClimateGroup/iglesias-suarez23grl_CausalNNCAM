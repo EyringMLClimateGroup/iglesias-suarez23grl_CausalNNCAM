{
 "cells": [
  {
   "cell_type": "markdown",
   "metadata": {},
   "source": [
    "Script to rename data files to new naming convention"
   ]
  },
  {
   "cell_type": "code",
   "execution_count": null,
   "metadata": {},
   "outputs": [],
   "source": [
    "from pathlib import Path\n",
    "# import glob\n",
    "# import pdb\n",
    "\n",
    "origin = '/scratch/b/b309172/tmp/causalnncam/causal_links/'\n",
    "target = '/scratch/b/b309198/tmp/causalnncam/causal_links_renamed/'\n",
    "\n",
    "target_pattern = \"{var_name}_{level}_lat-{lat}_lon-{lon}_{ind_test}_{experiment}.obj\"\n",
    "\n",
    "additions = {\"ind_test\" : \"parcorr\"}\n",
    "\n",
    "o_folder = Path(origin)\n",
    "t_folder = Path(target)\n"
   ]
  },
  {
   "cell_type": "code",
   "execution_count": null,
   "metadata": {},
   "outputs": [],
   "source": [
    "def parse_filename(fn):\n",
    "    \"\"\"\n",
    "    Expected pattern:\n",
    "    \"{var_name}_{level}_lat-{lat}_lon-{lon}_{experiment}.obj\"\n",
    "    \"\"\"\n",
    "    split = fn.split(\"_\")\n",
    "    return{\n",
    "        \"var_name\" : split[0],\n",
    "        \"level\" : split[1],\n",
    "        \"lat\" : split[2].replace(\"lat-\", \"\"),\n",
    "        \"lon\" : split[3].replace(\"lon-\", \"\").replace(\"-parcorr\", \"\"),\n",
    "        \"experiment\" : \"_\".join(split[4:]).split(\".\")[0]\n",
    "    }\n"
   ]
  },
  {
   "cell_type": "code",
   "execution_count": null,
   "metadata": {},
   "outputs": [],
   "source": [
    "files = list(o_folder.iterdir())\n",
    "step_progress = 1\n",
    "step = 5\n",
    "for i, o_file in enumerate(files):\n",
    "    i_file = i+1\n",
    "    if(i_file == len(files)\n",
    "       or ((i_file / len(files) * 100) >= step * step_progress)\n",
    "    ):\n",
    "        step_progress += 1\n",
    "        print(\"Progress: {:.2f}% - {} of {} files\".format(\n",
    "                i_file / len(files) * 100,\n",
    "                i_file,\n",
    "                len(files)\n",
    "            ))\n",
    "    \n",
    "    \n",
    "    t_folder.mkdir(parents=True, exist_ok=True)\n",
    "    \n",
    "    values = parse_filename(o_file.name)\n",
    "    values.update(additions)\n",
    "    t_filename = target_pattern.format(**values)\n",
    "#     print(f\"{o_file.name}\\n{t_filename}\\n\")\n",
    "    \n",
    "    t_file = Path(t_folder, t_filename)\n",
    "    \n",
    "    o_file.replace(t_file)\n"
   ]
  }
 ],
 "metadata": {
  "kernelspec": {
   "display_name": "Tigramite",
   "language": "python",
   "name": "tigramite"
  },
  "language_info": {
   "codemirror_mode": {
    "name": "ipython",
    "version": 3
   },
   "file_extension": ".py",
   "mimetype": "text/x-python",
   "name": "python",
   "nbconvert_exporter": "python",
   "pygments_lexer": "ipython3",
   "version": "3.8.5"
  }
 },
 "nbformat": 4,
 "nbformat_minor": 4
}
