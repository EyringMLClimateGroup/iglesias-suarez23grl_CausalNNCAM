{
 "cells": [
  {
   "cell_type": "markdown",
   "metadata": {},
   "source": [
    "# ***DESCRIPTION*** \n",
    "## ***Run Tigramite (PCMCI) for SPCAM data with specified settings:***\n",
    "### Fixed:\n",
    "- PC-stable (i.e., MCI component not run)\n",
    "- tau_min/tau_max = -1\n",
    "- Significance: analytics\n",
    "- experiments: '002_train_1_year'\n",
    "- links: parents (state fields) -> children (parameterizations)\n",
    "### Options:\n",
    "- analysis: 'single': gridpoints individually\n",
    "            'concat': gridpoints contatenated into a \n",
    "                      single time-series\n",
    "- children (parameterizations)\n",
    "- region: lat/lon limits (gridpoints to be used)\n",
    "- levels: children's levels to be explored\n",
    "- pc_alphas: list of value(s)"
   ]
  },
  {
   "cell_type": "code",
   "execution_count": null,
   "metadata": {},
   "outputs": [],
   "source": [
    "# Python packages\n",
    "import sys, getopt, yaml, time, datetime\n",
    "from datetime import datetime as dt\n",
    "import numpy                  as np\n",
    "from pathlib              import Path\n",
    "\n",
    "# Utils\n",
    "from   utils.constants    import SPCAM_Vars, DATA_FOLDER, ANCIL_FILE #, OUTPUT_FILE_PATTERN\n",
    "from   utils.constants    import tau_min, tau_max, significance, experiment\n",
    "import utils.utils            as utils\n",
    "import utils.processing       as proc"
   ]
  },
  {
   "cell_type": "markdown",
   "metadata": {},
   "source": [
    "## Specifications"
   ]
  },
  {
   "cell_type": "code",
   "execution_count": null,
   "metadata": {},
   "outputs": [],
   "source": [
    "argv           = sys.argv[1:]\n",
    "# argv           = ['-c', 'cfg_pipeline.yml']\n",
    "try:\n",
    "    opts, args = getopt.getopt(argv,\"hc:a\",[\"cfg_file=\",\"add=\"])\n",
    "except getopt.GetoptError:\n",
    "    print ('pipeline.py -c [cfg_file] -a [add]')\n",
    "    sys.exit(2)\n",
    "for opt, arg in opts:\n",
    "    if opt == '-h':\n",
    "        print ('pipeline.py -c [cfg_file]')\n",
    "        sys.exit()\n",
    "    elif opt in (\"-c\", \"--cfg_file\"):\n",
    "        yml_cfgFilenm = arg\n",
    "    elif opt in (\"-a\", \"--add\"):\n",
    "        pass\n",
    "\n",
    "# YAML config file\n",
    "yml_cfgFile       = open(yml_cfgFilenm)\n",
    "yml_cfg           = yaml.load(yml_cfgFile, Loader=yaml.FullLoader)\n",
    "\n",
    "# Load specifications\n",
    "analysis            = yml_cfg['analysis']\n",
    "spcam_parents       = yml_cfg['spcam_parents']\n",
    "spcam_children      = yml_cfg['spcam_children']\n",
    "pc_alphas           = yml_cfg['pc_alphas']\n",
    "region              = yml_cfg['region']\n",
    "lim_levels          = yml_cfg['lim_levels']\n",
    "target_levels       = yml_cfg['target_levels']\n",
    "verbosity           = yml_cfg['verbosity']\n",
    "output_folder       = yml_cfg['output_folder']\n",
    "output_file_pattern = yml_cfg['output_file_pattern'][analysis]\n",
    "overwrite           = False"
   ]
  },
  {
   "cell_type": "code",
   "execution_count": null,
   "metadata": {},
   "outputs": [],
   "source": [
    "## Region / Gridpoints\n",
    "if region is False:\n",
    "    region     = [ [-90,90] , [0,-.5] ] # All\n",
    "gridpoints = utils.get_gridpoints(region)\n",
    "\n",
    "## Children levels (parents includes all)\n",
    "if lim_levels is not False and target_levels is False:\n",
    "    target_levels = utils.get_levels(lim_levels)"
   ]
  },
  {
   "cell_type": "code",
   "execution_count": null,
   "metadata": {},
   "outputs": [],
   "source": [
    "## Model's grid\n",
    "levels, latitudes, longitudes = utils.read_ancilaries(\n",
    "        Path(DATA_FOLDER, ANCIL_FILE))\n",
    "\n",
    "## Latitude / Longitude indexes\n",
    "idx_lats = [utils.find_closest_value(latitudes, gridpoint[0])\n",
    "            for gridpoint in gridpoints]\n",
    "idx_lons = [utils.find_closest_longitude(longitudes, gridpoint[1])\n",
    "            for gridpoint in gridpoints]\n",
    "\n",
    "## Level indexes (children & parents)\n",
    "parents_idx_levs = [[round(lev, 2), i] for i, lev in enumerate(levels)] # All\n",
    "if target_levels is not False:\n",
    "    children_idx_levs = [[lev, utils.find_closest_value(levels, lev)]\n",
    "                         for lev in target_levels]\n",
    "else:\n",
    "    children_idx_levs = parents_idx_levs"
   ]
  },
  {
   "cell_type": "code",
   "execution_count": null,
   "metadata": {},
   "outputs": [],
   "source": [
    "## Variables\n",
    "spcam_vars_include = spcam_parents + spcam_children\n",
    "SPCAM_Vars         = [var for var in SPCAM_Vars if var.name in spcam_vars_include]\n",
    "var_parents        = [var for var in SPCAM_Vars if var.type == \"in\"]\n",
    "var_children       = [var for var in SPCAM_Vars if var.type == \"out\"]  "
   ]
  },
  {
   "cell_type": "markdown",
   "metadata": {},
   "source": [
    "### Processing"
   ]
  },
  {
   "cell_type": "code",
   "execution_count": null,
   "metadata": {},
   "outputs": [],
   "source": [
    "def proc_analysis(*args):\n",
    "    if analysis == 'single':\n",
    "        print('Analysis: single'); print()\n",
    "        proc.single(*args)\n",
    "    elif analysis == 'concat':\n",
    "        print('Analysis: concat'); print()\n",
    "        proc.concat(*args)\n",
    "    else:\n",
    "        raise TypeError(\"Please specify a valid analysis, i.e., 'single' or 'concat'; stop script\")"
   ]
  },
  {
   "cell_type": "code",
   "execution_count": null,
   "metadata": {},
   "outputs": [],
   "source": [
    "proc_analysis(\n",
    "    gridpoints,\n",
    "    var_parents,\n",
    "    var_children,\n",
    "    pc_alphas,\n",
    "    levels,\n",
    "    parents_idx_levs,\n",
    "    children_idx_levs,\n",
    "    idx_lats,\n",
    "    idx_lons,\n",
    "    output_file_pattern,\n",
    "    output_folder,\n",
    "    overwrite\n",
    ")"
   ]
  }
 ],
 "metadata": {
  "kernelspec": {
   "display_name": "tg38plus",
   "language": "python",
   "name": "tg38plus"
  },
  "language_info": {
   "codemirror_mode": {
    "name": "ipython",
    "version": 3
   },
   "file_extension": ".py",
   "mimetype": "text/x-python",
   "name": "python",
   "nbconvert_exporter": "python",
   "pygments_lexer": "ipython3",
   "version": "3.8.5"
  }
 },
 "nbformat": 4,
 "nbformat_minor": 4
}
