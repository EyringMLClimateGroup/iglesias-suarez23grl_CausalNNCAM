{
 "cells": [
  {
   "cell_type": "markdown",
   "metadata": {},
   "source": [
    "# ***DESCRIPTION*** \n",
    "## ***Run Tigramite (PCMCI) for SPCAM data with specified settings:***\n",
    "### Fixed:\n",
    "- PC-stable (i.e., MCI component not run)\n",
    "- tau_min/tau_max = -1\n",
    "- Significance: analytics\n",
    "- experiments: '002_train_1_year'\n",
    "- links: parents (state fields) -> children (parameterizations)\n",
    "### Options:\n",
    "- children (parameterizations)\n",
    "- region: lat/lon limits (gridpoints to be used)\n",
    "- levels: children's levels to be explored\n",
    "- pc_alphas: list of value(s)"
   ]
  },
  {
   "cell_type": "code",
   "execution_count": 1,
   "metadata": {},
   "outputs": [],
   "source": [
    "# Python packages\n",
    "import sys, getopt, yaml, time, datetime\n",
    "import numpy                  as np\n",
    "from pathlib              import Path\n",
    "\n",
    "# Utils\n",
    "from   utils.constants    import SPCAM_Vars\n",
    "from   utils.constants    import DATA_FOLDER, ANCIL_FILE, tau_min, tau_max, significance, experiment\n",
    "import utils.utils            as utils\n",
    "import utils.links            as links\n",
    "import utils.pcmci_algorithm  as algorithm"
   ]
  },
  {
   "cell_type": "markdown",
   "metadata": {},
   "source": [
    "## Specifications"
   ]
  },
  {
   "cell_type": "code",
   "execution_count": 2,
   "metadata": {},
   "outputs": [],
   "source": [
    "argv           = sys.argv[1:] #argv           = ['-c', 'cfg_pipeline.yml']\n",
    "try:\n",
    "    opts, args = getopt.getopt(argv,\"hc:a\",[\"cfg_file=\",\"add=\"])\n",
    "except getopt.GetoptError:\n",
    "    print ('pipeline.py -c [cfg_file] -a [add]')\n",
    "    sys.exit(2)\n",
    "for opt, arg in opts:\n",
    "    if opt == '-h':\n",
    "        print ('pipeline.py -c [cfg_file]')\n",
    "        sys.exit()\n",
    "    elif opt in (\"-c\", \"--cfg_file\"):\n",
    "        yml_cfgFilenm = arg\n",
    "    elif opt in (\"-a\", \"--add\"):\n",
    "        pass\n",
    "\n",
    "# YAML config file\n",
    "yml_cfgFile       = open(yml_cfgFilenm)\n",
    "yml_cfg           = yaml.load(yml_cfgFile, Loader=yaml.FullLoader)\n",
    "\n",
    "# Load specifications\n",
    "spcam_parents     = yml_cfg['spcam_parents']\n",
    "spcam_children    = yml_cfg['spcam_children']\n",
    "pc_alphas         = yml_cfg['pc_alphas']\n",
    "region            = yml_cfg['region']\n",
    "lim_levels        = yml_cfg['lim_levels']\n",
    "target_levels     = yml_cfg['target_levels']\n",
    "verbosity         = yml_cfg['verbosity']\n",
    "output_folder     = yml_cfg['output_folder']"
   ]
  },
  {
   "cell_type": "code",
   "execution_count": 3,
   "metadata": {},
   "outputs": [],
   "source": [
    "## Region / Gridpoints\n",
    "if region is False:\n",
    "    region     = [ [-90,90] , [0,-.5] ] # All\n",
    "gridpoints = utils.get_gridpoints(region)\n",
    "\n",
    "## Children levels (parents includes all)\n",
    "if lim_levels is not False and target_levels is False:\n",
    "    target_levels = utils.get_levels(lim_levels)"
   ]
  },
  {
   "cell_type": "code",
   "execution_count": 4,
   "metadata": {},
   "outputs": [],
   "source": [
    "## Model's grid\n",
    "levels, latitudes, longitudes = utils.read_ancilaries(Path(DATA_FOLDER, ANCIL_FILE))\n",
    "\n",
    "## Latitude / Longitude indexes\n",
    "idx_lats = [utils.find_closest_value(latitudes, gridpoint[0])      for gridpoint in gridpoints]\n",
    "idx_lons = [utils.find_closest_longitude(longitudes, gridpoint[1]) for gridpoint in gridpoints]\n",
    "\n",
    "## Level indexes (children & parents)\n",
    "parents_idx_levs = [[round(lev, 2), i] for i, lev in enumerate(levels)] # All\n",
    "if target_levels is not False:\n",
    "    children_idx_levs = [[lev, utils.find_closest_value(levels, lev)] for lev in target_levels]\n",
    "else:\n",
    "    children_idx_levs = parents_idx_levs"
   ]
  },
  {
   "cell_type": "code",
   "execution_count": 5,
   "metadata": {},
   "outputs": [],
   "source": [
    "## Variables\n",
    "spcam_vars_include = spcam_parents + spcam_children\n",
    "SPCAM_Vars         = [var for var in SPCAM_Vars if var.label in spcam_vars_include]\n",
    "var_parents        = [var for var in SPCAM_Vars if var.type == \"in\"]\n",
    "var_children       = [var for var in SPCAM_Vars if var.type == \"out\"]  "
   ]
  },
  {
   "cell_type": "markdown",
   "metadata": {},
   "source": [
    "### Processing"
   ]
  },
  {
   "cell_type": "code",
   "execution_count": 6,
   "metadata": {},
   "outputs": [
    {
     "name": "stdout",
     "output_type": "stream",
     "text": [
      "Gridpoint 1/1: lat=4.185920533189154 (33), lon=120.9375 (43)\n",
      "\n",
      "Load Parents (state fields)...\n",
      "All parents loaded. Time: 0:03:09.175463\n",
      "\n",
      "PCMCI for each child (parameterization):\n",
      "Variable: flns\n",
      "... find causal links for flns\n",
      "Links found. Time: 0:00:25.129881\n",
      "Saved results into \"test_outputs/flns_1_lat-4_lon-120_002_train_1_year.obj\"\n",
      "\n",
      "PCMCI in gridpoint finished. Time: 0:03:41.033048\n",
      "\n",
      "\n",
      "\n",
      "Execution complete. Total time: 0:03:41.074463\n"
     ]
    }
   ],
   "source": [
    "len_grid = len(gridpoints)\n",
    "t_start = time.time()\n",
    "for i_grid, (i_lat, i_lon) in enumerate(gridpoints):\n",
    "    \n",
    "    idx_lat = idx_lats[i_grid]\n",
    "    idx_lon = idx_lons[i_grid]\n",
    "    \n",
    "    print(f\"Gridpoint {i_grid+1}/{len_grid}: lat={latitudes[idx_lats[i_grid]]}\"\n",
    "          + f\" ({idx_lat}), lon={longitudes[idx_lons[i_grid]]} ({idx_lon})\")\n",
    "    print(\"\")\n",
    "    \n",
    "    print(f\"Load Parents (state fields)...\")\n",
    "    t_before_load_parents = time.time()\n",
    "    data_parents = utils.load_data(var_parents,\n",
    "                             experiment,\n",
    "                             DATA_FOLDER,\n",
    "                             parents_idx_levs,\n",
    "                             idx_lat,\n",
    "                             idx_lon\n",
    "                            )\n",
    "    time_load_parents = datetime.timedelta(seconds = time.time() - t_before_load_parents)\n",
    "    print(f\"All parents loaded. Time: {time_load_parents}\")\n",
    "    print(\"\")\n",
    "    \n",
    "\n",
    "    print(f\"PCMCI for each child (parameterization):\")\n",
    "    for child in var_children:\n",
    "        \n",
    "        print(f\"Variable: {child.name}\")\n",
    "        \n",
    "        for level in children_idx_levs:\n",
    "            if child.dimensions == 3:\n",
    "                print(f\"... find causal links for {child.name} at level: {level[0]} hPa [{level[1]+1}]\")\n",
    "                i_lev = level[1]\n",
    "            else:\n",
    "                print(f\"... find causal links for {child.name}\")\n",
    "                i_lev = 0\n",
    "                \n",
    "            data_child = utils.load_data([child],\n",
    "                                   experiment,\n",
    "                                   DATA_FOLDER,\n",
    "                                   [level],\n",
    "                                   idx_lat,\n",
    "                                   idx_lon)\n",
    "            data = [*data_parents, *data_child]\n",
    "            \n",
    "            # Find links\n",
    "            t_before_find_links = time.time()\n",
    "            results = algorithm.find_links(data, pc_alphas, 0)\n",
    "            time_links = datetime.timedelta(seconds = time.time() - t_before_find_links)\n",
    "            print(f\"Links found. Time: {time_links}\")\n",
    "\n",
    "            utils.save_results(results, child, i_lev, i_lat, i_lon, experiment, output_folder)\n",
    "\n",
    "            if child.dimensions == 2:\n",
    "                break # Stop executing; just one level\n",
    "        print(\"\")\n",
    "    \n",
    "    time_point = datetime.timedelta(seconds = time.time() - t_before_load_parents)\n",
    "    print(f\"PCMCI in gridpoint finished. Time: {time_point}\")\n",
    "    print(\"\"); print(\"\")\n",
    "\n",
    "print(\"\")\n",
    "total_time = datetime.timedelta(seconds = time.time() - t_start)\n",
    "print(f\"Execution complete. Total time: {total_time}\")  "
   ]
  }
 ],
 "metadata": {
  "kernelspec": {
   "display_name": "tg38plus",
   "language": "python",
   "name": "tg38plus"
  },
  "language_info": {
   "codemirror_mode": {
    "name": "ipython",
    "version": 3
   },
   "file_extension": ".py",
   "mimetype": "text/x-python",
   "name": "python",
   "nbconvert_exporter": "python",
   "pygments_lexer": "ipython3",
   "version": "3.8.5"
  }
 },
 "nbformat": 4,
 "nbformat_minor": 4
}
