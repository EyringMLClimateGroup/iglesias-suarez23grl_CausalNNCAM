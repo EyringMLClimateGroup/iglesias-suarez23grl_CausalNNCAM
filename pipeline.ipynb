{
 "cells": [
  {
   "cell_type": "code",
   "execution_count": null,
   "metadata": {},
   "outputs": [],
   "source": [
    "# Python packages\n",
    "import sys\n",
    "\n",
    "# Utils\n",
    "import utils.processing as proc"
   ]
  },
  {
   "cell_type": "markdown",
   "metadata": {},
   "source": [
    "## Specifications"
   ]
  },
  {
   "cell_type": "code",
   "execution_count": null,
   "metadata": {},
   "outputs": [],
   "source": [
    "from utils.setup import Setup\n",
    "\n",
    "argv           = sys.argv[1:]\n",
    "# argv           = ['-c', 'cfg_pipeline.yml']\n",
    "\n",
    "setup = Setup(argv)\n"
   ]
  },
  {
   "cell_type": "markdown",
   "metadata": {},
   "source": [
    "### Processing"
   ]
  },
  {
   "cell_type": "code",
   "execution_count": null,
   "metadata": {},
   "outputs": [],
   "source": [
    "def proc_analysis(*args):\n",
    "    if setup.analysis == 'single':\n",
    "        print('Analysis: single'); print()\n",
    "        proc.single(*args)\n",
    "    elif setup.analysis == 'concat':\n",
    "        print('Analysis: concat'); print()\n",
    "        proc.concat(*args)\n",
    "    else:\n",
    "        raise TypeError(\"Please specify a valid analysis, i.e., 'single' or 'concat'; stop script\")"
   ]
  },
  {
   "cell_type": "code",
   "execution_count": null,
   "metadata": {},
   "outputs": [],
   "source": [
    "proc_analysis(\n",
    "    setup.gridpoints,\n",
    "    setup.var_parents,\n",
    "    setup.var_children,\n",
    "    setup.pc_alphas,\n",
    "    setup.levels,\n",
    "    setup.parents_idx_levs,\n",
    "    setup.children_idx_levs,\n",
    "    setup.idx_lats,\n",
    "    setup.idx_lons,\n",
    "    setup.output_file_pattern,\n",
    "    setup.output_folder,\n",
    "    setup.overwrite\n",
    ")"
   ]
  }
 ],
 "metadata": {
  "kernelspec": {
   "display_name": "Tigramite",
   "language": "python",
   "name": "tigramite"
  },
  "language_info": {
   "codemirror_mode": {
    "name": "ipython",
    "version": 3
   },
   "file_extension": ".py",
   "mimetype": "text/x-python",
   "name": "python",
   "nbconvert_exporter": "python",
   "pygments_lexer": "ipython3",
   "version": "3.8.5"
  }
 },
 "nbformat": 4,
 "nbformat_minor": 4
}
