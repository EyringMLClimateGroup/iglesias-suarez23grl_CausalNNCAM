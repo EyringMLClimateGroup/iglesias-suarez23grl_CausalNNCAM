{
 "cells": [
  {
   "cell_type": "markdown",
   "metadata": {},
   "source": [
    "## Specifications"
   ]
  },
  {
   "cell_type": "code",
   "execution_count": null,
   "metadata": {},
   "outputs": [],
   "source": [
    "import sys\n",
    "from utils.setup import SetupPCAnalysis\n",
    "\n",
    "argv           = sys.argv[1:]\n",
    "# argv           = ['-c', 'cfg_pipeline.yml']\n",
    "\n",
    "setup = SetupPCAnalysis(argv)\n"
   ]
  },
  {
   "cell_type": "markdown",
   "metadata": {},
   "source": [
    "### Processing"
   ]
  },
  {
   "cell_type": "code",
   "execution_count": null,
   "metadata": {},
   "outputs": [],
   "source": [
    "from utils.processing import proc_analysis\n",
    "\n",
    "proc_analysis(\n",
    "    setup.analysis,\n",
    "    setup.gridpoints,\n",
    "    setup.spcam_inputs,\n",
    "    setup.spcam_outputs,\n",
    "    setup.cond_ind_test,\n",
    "    setup.ind_test_name,\n",
    "    setup.pc_alphas,\n",
    "    setup.levels,\n",
    "    setup.parents_idx_levs,\n",
    "    setup.children_idx_levs,\n",
    "    setup.idx_lats,\n",
    "    setup.idx_lons,\n",
    "    setup.output_file_pattern,\n",
    "    setup.output_folder,\n",
    "    setup.overwrite_pc,\n",
    "    setup.verbosity_pc\n",
    ")"
   ]
  }
 ],
 "metadata": {
  "kernelspec": {
   "display_name": "Tigramite",
   "language": "python",
   "name": "tigramite"
  },
  "language_info": {
   "codemirror_mode": {
    "name": "ipython",
    "version": 3
   },
   "file_extension": ".py",
   "mimetype": "text/x-python",
   "name": "python",
   "nbconvert_exporter": "python",
   "pygments_lexer": "ipython3",
   "version": "3.8.5"
  }
 },
 "nbformat": 4,
 "nbformat_minor": 4
}
