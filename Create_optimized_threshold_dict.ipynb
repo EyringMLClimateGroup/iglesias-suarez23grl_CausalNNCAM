{
 "cells": [
  {
   "cell_type": "markdown",
   "metadata": {},
   "source": [
    "# Optimized threshold for each output"
   ]
  },
  {
   "cell_type": "markdown",
   "metadata": {},
   "source": [
    "This script creates an optimized threshold dictionary per output. \n",
    "\n",
    "It explores SHERPA studies specifically performed to find the optimal threshold for each output. The ***optimal threshold*** *is the most stringent threshold that allows the CausalNN achieving the minim validation loss (i.e., using two-sig-figures of the mse).*\n",
    "\n",
    "In addition it plots the NNs' loss (performance) vs complexity (num. of trainable parameters)."
   ]
  },
  {
   "cell_type": "markdown",
   "metadata": {},
   "source": [
    "## Packages, Modules & Definitions"
   ]
  },
  {
   "cell_type": "code",
   "execution_count": 1,
   "metadata": {},
   "outputs": [],
   "source": [
    "import os, pickle, glob, yaml\n",
    "import numpy    as np\n",
    "import numpy.ma as ma\n",
    "import matplotlib.pyplot as plt\n",
    "from pathlib import Path\n",
    "import csv\n",
    "from math import log10, floor\n",
    "from sklearn    import preprocessing\n",
    "from collections import Counter\n",
    "from os.path import exists"
   ]
  },
  {
   "cell_type": "code",
   "execution_count": 2,
   "metadata": {},
   "outputs": [],
   "source": [
    "def count_inputs(input_list_file):\n",
    "    c = Counter()\n",
    "    with open(input_list_file) as f:\n",
    "        for line in f:\n",
    "            input = line.strip()\n",
    "            c[input] += 1\n",
    "    return c['1']\n",
    "\n",
    "def calc_parameters(inputs, outputs, nl, nodes):\n",
    "    l_hidden = [nodes]*nl\n",
    "    layers   = l_hidden + [outputs]\n",
    "    parameters = 0\n",
    "    for iL in range(len(layers)):\n",
    "        if iL == 0: parameters += ( inputs * layers[iL] + layers[iL] )\n",
    "        else: parameters += ( layers[iL-1] * layers[iL] + layers[iL] )\n",
    "    return parameters\n",
    "\n",
    "def round_sig(x, sig=2):\n",
    "    return round(x, sig-int(floor(log10(abs(x))))-1)\n"
   ]
  },
  {
   "cell_type": "markdown",
   "metadata": {},
   "source": [
    "## Options"
   ]
  },
  {
   "cell_type": "code",
   "execution_count": 3,
   "metadata": {},
   "outputs": [],
   "source": [
    "SHE_alg    = 'GridSearch'\n",
    "SHE_path   = f'./hyperparameter_tuning_{SHE_alg}_SHERPA/'\n",
    "SHE_date   = '20220327_'\n",
    "# SHE_date   = '20220327_f'\n",
    "# SHE_date   = '20220327_phq-'\n",
    "# SHE_date   = '20220327_tphystnd-'\n",
    "sig        = 2\n",
    "pdf        = True"
   ]
  },
  {
   "cell_type": "code",
   "execution_count": 4,
   "metadata": {},
   "outputs": [],
   "source": [
    "thrsType = 'quantile' if pdf else 'spatially'\n",
    "outPath = \"./nn_config/\"+thrsType+\"_dicts/\"\n",
    "Path(outPath).mkdir(parents=True, exist_ok=True)\n",
    "outFile = outPath+f\"000_{thrsType}_thresholds.yml\""
   ]
  },
  {
   "cell_type": "markdown",
   "metadata": {},
   "source": [
    "## SHERPA Studies"
   ]
  },
  {
   "cell_type": "code",
   "execution_count": 5,
   "metadata": {},
   "outputs": [
    {
     "name": "stdout",
     "output_type": "stream",
     "text": [
      "Process study: ./hyperparameter_tuning_GridSearch_SHERPA/20220327_flnt\n",
      "Process study: ./hyperparameter_tuning_GridSearch_SHERPA/20220327_phq-820.86\n",
      "Process study: ./hyperparameter_tuning_GridSearch_SHERPA/20220327_phq-445.99\n",
      "Process study: ./hyperparameter_tuning_GridSearch_SHERPA/20220327_tphystnd-820.86\n",
      "Process study: ./hyperparameter_tuning_GridSearch_SHERPA/20220327_flns\n",
      "Process study: ./hyperparameter_tuning_GridSearch_SHERPA/20220327_tphystnd-197.91\n",
      "Process study: ./hyperparameter_tuning_GridSearch_SHERPA/20220327_fsns\n",
      "Process study: ./hyperparameter_tuning_GridSearch_SHERPA/20220327_prect\n",
      "Process study: ./hyperparameter_tuning_GridSearch_SHERPA/20220327_phq-14.36\n",
      "Process study: ./hyperparameter_tuning_GridSearch_SHERPA/20220327_fsnt\n",
      "Process study: ./hyperparameter_tuning_GridSearch_SHERPA/20220327_tphystnd-445.99\n",
      "Process study: ./hyperparameter_tuning_GridSearch_SHERPA/20220327_phq-197.91\n",
      "Process study: ./hyperparameter_tuning_GridSearch_SHERPA/20220327_tphystnd-957.49\n",
      "Process study: ./hyperparameter_tuning_GridSearch_SHERPA/20220327_tphystnd-14.36\n",
      "Process study: ./hyperparameter_tuning_GridSearch_SHERPA/20220327_phq-957.49\n",
      "Process study: ./hyperparameter_tuning_GridSearch_SHERPA/20220327_tphystnd-87.82\n",
      "Process study: ./hyperparameter_tuning_GridSearch_SHERPA/20220327_phq-87.82\n",
      "./nn_config/quantile_dicts/000_quantile_thresholds.yml dictionary exists.\n"
     ]
    }
   ],
   "source": [
    "thresholds_dict = {}; thresholds_dict['thresholds_dict'] = {}\n",
    "loss_complexity_dict = {}\n",
    "loss       = {'absolute':[],'normalized':[]}\n",
    "complexity = {'absolute':[],'normalized':[]}\n",
    "\n",
    "SHE_studies = glob.glob(SHE_path+SHE_date+'*')\n",
    "\n",
    "for i, study in enumerate(SHE_studies):\n",
    "    print(f\"Process study: {study}\")\n",
    "    output   = study.split('/')[-1].split('_')[-1]\n",
    "    \n",
    "    loss_complexity_dict[output] = {}\n",
    "    loss_output = []; loss_sig_output = []; complexity_output = []\n",
    "    \n",
    "    file = open(f\"{study}/results.csv\")\n",
    "    csvreader = csv.reader(file)\n",
    "    \n",
    "    header = next(csvreader)\n",
    "    for row in csvreader:\n",
    "        if 'COMPLETED' == row[1]:\n",
    "            \n",
    "            threshold = glob.glob(study+f\"/{row[0]}/*/*\")[0].split('/')[-1].split('-')[1][1:]\n",
    "            input_list_file = glob.glob(study+f\"/{row[0]}/*/*/*/*input_list.txt\")[0]\n",
    "            num_inputs      = count_inputs(input_list_file)        \n",
    "            \n",
    "            cpx = calc_parameters(num_inputs, 1, int(row[3]), int(row[4]))\n",
    "            loss_complexity_dict[output][row[0]] = {\n",
    "                 'threshold':threshold,\n",
    "                'num_inputs':num_inputs,\n",
    "                'num_layers':int(row[3]),\n",
    "                 'num_nodes':int(row[4]),\n",
    "                      'loss':float(row[-1]),\n",
    "            'loss_round_sig':round_sig(float(row[-1]),sig),\n",
    "                'complexity':cpx,\n",
    "            }\n",
    "            loss_output.append(float(row[-1]))\n",
    "            loss_sig_output.append(round_sig(float(row[-1]),sig))\n",
    "            complexity_output.append(cpx)\n",
    "\n",
    "    # All output metrics\n",
    "    loss['absolute'].append(loss_output); complexity['absolute'].append(complexity_output)\n",
    "    complexity_norm = preprocessing.minmax_scale(complexity_output, feature_range=(0, 1), axis=0, copy=True)\n",
    "    loss_norm       = preprocessing.minmax_scale(loss_output, feature_range=(0, 1), axis=0, copy=True)\n",
    "    loss['normalized'].append(loss_norm); complexity['normalized'].append(complexity_norm)\n",
    "    \n",
    "    # Best case\n",
    "    loss_output_min = np.min(loss_sig_output)\n",
    "    best_trials     = [\n",
    "        (id,i) for i,id in enumerate(loss_complexity_dict[output]) \n",
    "        if loss_complexity_dict[output][id]['loss_round_sig'] <= loss_output_min\n",
    "    ]\n",
    "    best_cpx   = [(loss_complexity_dict[output][i[0]]['complexity'],i[-1]) for i in best_trials]\n",
    "    best_trial = best_trials[best_cpx.index(min(best_cpx))]\n",
    "    \n",
    "    # Best output case\n",
    "    loss_complexity_dict[output]['best'] = {\n",
    "              'trial':best_trial[0],\n",
    "          'threshold':loss_complexity_dict[output][best_trial[0]]['threshold'],\n",
    "         'num_inputs':loss_complexity_dict[output][best_trial[0]]['num_inputs'],\n",
    "         'num_layers':loss_complexity_dict[output][best_trial[0]]['num_layers'],\n",
    "          'num_nodes':loss_complexity_dict[output][best_trial[0]]['num_nodes'],\n",
    "     'loss_round_sig':loss_complexity_dict[output][best_trial[0]]['loss_round_sig'],\n",
    "          'loss_norm':loss_norm[best_trial[-1]],\n",
    "         'complexity':loss_complexity_dict[output][best_trial[0]]['complexity'],\n",
    "    'complexity_norm':complexity_norm[best_trial[-1]],\n",
    "    }\n",
    "    \n",
    "    # Optmized threshold dictionary\n",
    "    thresholds_dict['thresholds_dict'][output] = \\\n",
    "    float(loss_complexity_dict[output][best_trial[0]]['threshold'])\n",
    "    \n",
    "    file.close()\n",
    "    \n",
    "loss['absolute']         = np.array(loss['absolute']).flatten()\n",
    "complexity['absolute']   = np.array(complexity['absolute']).flatten()\n",
    "loss['normalized']       = np.array(loss['normalized']).flatten()\n",
    "complexity['normalized'] = np.array(complexity['normalized']).flatten()\n",
    "\n",
    "\n",
    "# Optmized threshold dictionary: Save?\n",
    "if not exists(outFile):\n",
    "    print(f\"Create {outFile} dictionary.\")\n",
    "    with open(outFile, 'w') as outfile:\n",
    "        yaml.dump(thresholds_dict, outfile, default_flow_style=False)\n",
    "else:\n",
    "    print(f\"{outFile} dictionary exists.\")"
   ]
  },
  {
   "cell_type": "markdown",
   "metadata": {},
   "source": [
    "## Scatter plot"
   ]
  },
  {
   "cell_type": "code",
   "execution_count": 7,
   "metadata": {},
   "outputs": [],
   "source": [
    "def loss_complexity_scatter_plot(\n",
    "    loss_complexity_dict,\n",
    "    loss,\n",
    "    complexity,\n",
    "    best=True,\n",
    "    normalized=True,\n",
    "    title='',\n",
    "    lims=False,\n",
    "    save=False,\n",
    "    savenm=False,\n",
    "    **kwargs\n",
    "):\n",
    "      \n",
    "    fig, ax = plt.subplots(1, 1, figsize=(5, 5))\n",
    "\n",
    "    colors_dict = {\n",
    "        32:'hotpink',64:'steelblue',128:'b',256:'indigo',512:'orange',1024:'chocolate',2048:'r',\n",
    "    }\n",
    "    markers_dict = {        \n",
    "        1:'1',2:'2',3:'3',4:'>',5:'<',6:'^',7:'v',8:'+',9:'*',10:'.',\n",
    "    }\n",
    "\n",
    "    lims = lims if lims else 1\n",
    "    \n",
    "    # Normalization [0,1]? Note different outputs will have different loss.\n",
    "    complexity = complexity['normalized'] if normalized else complexity['absolute']\n",
    "    loss       =       loss['normalized'] if normalized else loss['absolute']\n",
    "        \n",
    "    # Scatter Plot\n",
    "    ax.scatter(\n",
    "        complexity,\n",
    "        loss,\n",
    "        color='grey',\n",
    "    )\n",
    "\n",
    "    # Best outputs case\n",
    "    if best:\n",
    "        for output in sorted(loss_complexity_dict):\n",
    "            if normalized:\n",
    "                complexity = loss_complexity_dict[output]['best']['complexity_norm'] \n",
    "                loss       = loss_complexity_dict[output]['best']['loss_norm']\n",
    "            else:\n",
    "                complexity = loss_complexity_dict[output]['best']['complexity'] \n",
    "                loss       = loss_complexity_dict[output]['best']['loss_round_sig']\n",
    "            threshold  = loss_complexity_dict[output]['best']['threshold']\n",
    "            num_inputs = loss_complexity_dict[output]['best']['num_inputs']\n",
    "            color  = colors_dict[loss_complexity_dict[output]['best']['num_nodes']]\n",
    "            marker = markers_dict[loss_complexity_dict[output]['best']['num_layers']]\n",
    "            ax.scatter(\n",
    "                complexity,\n",
    "                loss,\n",
    "                color=color,\n",
    "                marker=marker,\n",
    "                label=output+f\" ({threshold}: {num_inputs})\",\n",
    "            )\n",
    "    \n",
    "    # Attributes\n",
    "    if lims != False:\n",
    "        ax.set_xlim(-.01, lims); ax.set_ylim(-.01, lims)\n",
    "        ax.axline((-.01,lims) ,(lims, -.01), color='k', linestyle='--')\n",
    "    else:\n",
    "        ax.axline((0,lims) ,(lims, 0), color='k', linestyle='--')\n",
    "    if normalized:\n",
    "        ax.set_ylabel(\"Normalized loss (mse)\"); ax.set_xlabel(\"Normalized Num. Parameters\")\n",
    "    else:\n",
    "        ax.set_ylabel(\"Loss (mse)\"); ax.set_xlabel(\"Parameters\")\n",
    "    ax.legend(ncol=3,fontsize='medium',bbox_to_anchor=(.5, -.5), loc='lower center')\n",
    "    \n",
    "    # Save fig\n",
    "    fig.suptitle(title)\n",
    "    if save is not False:\n",
    "        Path(save).mkdir(parents=True, exist_ok=True)\n",
    "        savenm = f'{statsnm}_single_level-{idx_lab}_nTime-{nTime}.png' if not savenm else savenm\n",
    "        fig.savefig(f\"{save}/{savenm}\",dpi=1000.)\n",
    "        print(f\"{save}/{savenm}\")\n",
    "        \n",
    "        # Legend: colors & markers\n",
    "        fig_aux = plt.figure(figsize=(5, 5))\n",
    "        for j, jKey in enumerate({**colors_dict, **markers_dict}):\n",
    "            color = colors_dict[jKey] if jKey > 10 else 'k'\n",
    "            marker=markers_dict[jKey] if jKey < 10 else 'o'\n",
    "            lab   = 'nodes-'+str(jKey) if jKey > 10 else 'hl-'+str(jKey)\n",
    "            plt.scatter(\n",
    "                -100.,-100.,\n",
    "                label=lab,\n",
    "                alpha=.8,\n",
    "                color=color,\n",
    "                marker=marker,\n",
    "                s=50,\n",
    "            )\n",
    "        plt.xlim(0, 10)\n",
    "        plt.ylim(0, 10)\n",
    "        plt.legend(ncol=3,fontsize='medium',loc='center',frameon=False)\n",
    "        fig_aux.savefig(f\"{save}/legend_aux.png\",dpi=1000.)\n",
    "            \n",
    "    plt.show()"
   ]
  },
  {
   "cell_type": "code",
   "execution_count": 8,
   "metadata": {},
   "outputs": [
    {
     "data": {
      "image/png": "[encoded data removed]",
      "text/plain": [
       "<Figure size 360x360 with 1 Axes>"
      ]
     },
     "metadata": {
      "needs_background": "light"
     },
     "output_type": "display_data"
    }
   ],
   "source": [
    "loss_complexity_scatter_plot(\n",
    "    loss_complexity_dict,\n",
    "    loss,\n",
    "    complexity,\n",
    "    best=True,\n",
    "#     lims=.5,\n",
    "#     save='./220411_loss_vs_complexity_plots', savenm=f\"{SHE_path.split('/')[1]}_sig-{sig}.png\",\n",
    ")"
   ]
  },
  {
   "cell_type": "code",
   "execution_count": null,
   "metadata": {},
   "outputs": [],
   "source": []
  }
 ],
 "metadata": {
  "kernelspec": {
   "display_name": "causalnncam",
   "language": "python",
   "name": "causalnncam"
  },
  "language_info": {
   "codemirror_mode": {
    "name": "ipython",
    "version": 3
   },
   "file_extension": ".py",
   "mimetype": "text/x-python",
   "name": "python",
   "nbconvert_exporter": "python",
   "pygments_lexer": "ipython3",
   "version": "3.8.5"
  }
 },
 "nbformat": 4,
 "nbformat_minor": 4
}
