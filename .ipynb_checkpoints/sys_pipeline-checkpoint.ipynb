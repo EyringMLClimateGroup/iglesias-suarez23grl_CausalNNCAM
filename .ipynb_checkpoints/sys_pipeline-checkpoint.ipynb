{
 "cells": [
  {
   "cell_type": "markdown",
   "metadata": {},
   "source": [
    "# ***DESCRIPTION*** \n",
    "## ***Run Tigramite (PCMCI) for SPCAM data with specified settings:***\n",
    "### Fixed:\n",
    "- PC-stable (i.e., MCI component not run)\n",
    "- tau_min/tau_max = -1\n",
    "- Significance: analytics\n",
    "- experiments: '002_train_1_year'\n",
    "- links: parents (state fields) -> children (parameterizations)\n",
    "### Options:\n",
    "- region: lat/lon limits (gridpoints to be used)\n",
    "- levels: children's levels to be explored\n",
    "- pc_alpha: list of value(s)"
   ]
  },
  {
   "cell_type": "code",
   "execution_count": 14,
   "metadata": {},
   "outputs": [],
   "source": [
    "# Python packages\n",
    "import sys, getopt\n",
    "import numpy                  as np\n",
    "from pathlib              import Path\n",
    "\n",
    "# Utils\n",
    "from   utils.constants    import SPCAM_Vars\n",
    "from   utils.constants    import DATA_FOLDER, ANCIL_FILE, tau_min, tau_max, significance, experiment\n",
    "import utils.utils            as utils\n",
    "import utils.links            as links\n",
    "import utils.pcmci_algorithm  as algorithm"
   ]
  },
  {
   "cell_type": "markdown",
   "metadata": {},
   "source": [
    "## Variables to be processed"
   ]
  },
  {
   "cell_type": "code",
   "execution_count": null,
   "metadata": {},
   "outputs": [],
   "source": [
    "spcam_parents  = ['tbp','qbp','vbp','ps','solin','shflx','lhflx']\n",
    "spcam_children = ['tphystnd','prect', 'fsns', 'flns']\n",
    "region         = None\n",
    "lim_levels     = None\n",
    "target_levels  = None\n",
    "list_pc_alpha  = [0.001, 0.002, 0.005, 0.01, 0.02, 0.05, 0.1, 0.2]\n",
    "try:\n",
    "    opts, args = getopt.getopt(argv,\"hp:c:r:l:t:a\",[\"parents=\",\"children=\",\n",
    "                                                    \"region=\",\"lim_levels=\",\n",
    "                                                    \"target_levels=\",\"pc-alpha\"])\n",
    "except getopt.GetoptError:\n",
    "    print ('pipeline.py -p [parents] -c [children] -r [region] -l [lim_levels] -t [target_levels] -a [pc-alpha]')\n",
    "    sys.exit(2)\n",
    "for opt, arg in opts:\n",
    "    print(opt, arg)\n",
    "    if opt == '-h':\n",
    "        print ('pipeline.py -p [parents] -c [children]')\n",
    "        sys.exit()\n",
    "    elif opt in (\"-p\", \"--parents\"):\n",
    "        spcam_parents = arg\n",
    "    elif opt in (\"-c\", \"--children\"):\n",
    "        spcam_children = arg\n",
    "    elif opt in (\"-r\", \"--region\"):\n",
    "        region = arg\n",
    "    elif opt in (\"-l\", \"--lim_levels\"):\n",
    "        lim_levels = arg\n",
    "    elif opt in (\"-t\", \"--target_levels\"):\n",
    "        target_levels = arg\n",
    "    elif opt in (\"-a\", \"--pc-alpha\"):\n",
    "        list_pc_alpha = arg\n",
    "print ('Parents are: ', spcam_parents)\n",
    "print ('Children are: ', spcam_children)\n",
    "print ('Region is: ', region)\n",
    "print ('lim_levels are: ', lim_levels)\n",
    "print ('target_levels are: ', target_levels)\n",
    "print ('pc-alpha is: ', list_pc_alpha)"
   ]
  },
  {
   "cell_type": "code",
   "execution_count": 15,
   "metadata": {},
   "outputs": [],
   "source": [
    "'''\n",
    "This will be given via a wrapper (bash) or config file\n",
    "'''\n",
    "#spcam_parents      = ['tbp','qbp','vbp','ps','solin','shflx','lhflx']\n",
    "spcam_parents      = ['tbp','ps']\n",
    "# spcam_children     = ['tphystnd','prect', 'fsns', 'flns']\n",
    "spcam_children     = ['flns']"
   ]
  },
  {
   "cell_type": "code",
   "execution_count": 16,
   "metadata": {},
   "outputs": [],
   "source": [
    "spcam_vars_include = spcam_parents + spcam_children\n",
    "SPCAM_Vars         = [var for var in SPCAM_Vars if var.label in spcam_vars_include]\n",
    "spcam_3d_vars      = [var for var in SPCAM_Vars if var.dimensions == 3]\n",
    "spcam_2d_vars      = [var for var in SPCAM_Vars if var.dimensions == 2]\n",
    "input_vars         = [var for var in SPCAM_Vars if var.type == 'in']\n",
    "output_vars        = [var for var in SPCAM_Vars if var.type == 'out']"
   ]
  },
  {
   "cell_type": "markdown",
   "metadata": {},
   "source": [
    "## Options\n",
    "This should ideally be read from a configuration file"
   ]
  },
  {
   "cell_type": "code",
   "execution_count": 17,
   "metadata": {},
   "outputs": [],
   "source": [
    "## Region / Gridpoints\n",
    "#region    = None\n",
    "region     = [ [4,4] , [120,120] ] # [ [lat1, lat2], [lon1, lon2]]\n",
    "if region is None:\n",
    "    region     = [ [-90,90] , [0,-.5] ] # All\n",
    "gridpoints = utils.get_gridpoints(region)\n",
    "\n",
    "## Children levels (parents includes all) \n",
    "target_levels = None # None: all; [1000, 700, 300, 80] Nearest level (hPa)\n",
    "lim_levels    = [850, 700]\n",
    "if lim_levels is not None and target_levels is None:\n",
    "    target_levels = utils.get_levels(lim_levels)\n",
    "\n",
    "## PC-Alpha(s)\n",
    "#pc_alpha      = None\n",
    "list_pc_alpha = [0.001, 0.002, 0.005, 0.01, 0.02, 0.05, 0.1, 0.2]\n",
    "\n",
    "verbosity = 2\n",
    "output_folder = \"./test_outputs\""
   ]
  },
  {
   "cell_type": "code",
   "execution_count": 8,
   "metadata": {},
   "outputs": [],
   "source": [
    "levels, latitudes, longitudes = utils.read_ancilaries(Path(DATA_FOLDER, ANCIL_FILE))\n",
    "\n",
    "# Latitude / Longitude indexes\n",
    "idx_lats = [utils.find_closest_value(latitudes, gridpoint[0])      for gridpoint in gridpoints]\n",
    "idx_lons = [utils.find_closest_longitude(longitudes, gridpoint[1]) for gridpoint in gridpoints]\n",
    "\n",
    "# Level indexes (children & parents)\n",
    "parents_idx_levs = [[round(lev, 2), i] for i, lev in enumerate(levels)] # All\n",
    "if target_levels is not None:\n",
    "    children_idx_levs = [[lev, utils.find_closest_value(levels, lev)] for lev in target_levels]\n",
    "else:\n",
    "    children_idx_levs = parents_idx_levs"
   ]
  },
  {
   "cell_type": "code",
   "execution_count": 13,
   "metadata": {},
   "outputs": [
    {
     "name": "stdout",
     "output_type": "stream",
     "text": [
      "Gridpoint 1/1: lat=4.185920533189154 (33), lon=120.9375 (43)\n",
      "\n",
      "Load Parents (state fields)...\n",
      "All parents loaded. Time: 0:02:53.924325\n",
      "\n",
      "PCMCI for each child (parameterization):\n",
      "Variable: flns\n",
      "... find causal links for flns\n",
      "Links found. Time: 0:00:15.905123\n",
      "Saved results into \"test_outputs/flns_2_lat-4_lon-120_002_train_1_year.obj\"\n",
      "\n",
      "PCMCI in gridpoint finished. Time: 0:03:15.491240\n",
      "\n",
      "\n",
      "\n",
      "Execution complete. Total time: 0:03:15.558574\n"
     ]
    }
   ],
   "source": [
    "var_list = SPCAM_Vars\n",
    "\n",
    "var_parents = [var for var in var_list if var.type == \"in\"]\n",
    "var_children = [var for var in var_list if var.type == \"out\"]\n",
    "\n",
    "import time\n",
    "import datetime\n",
    "\n",
    "# Load data\n",
    "len_grid = len(gridpoints)\n",
    "t_start = time.time()\n",
    "for i_grid, (i_lat, i_lon) in enumerate(gridpoints):\n",
    "    \n",
    "    idx_lat = idx_lats[i_grid]\n",
    "    idx_lon = idx_lons[i_grid]\n",
    "    \n",
    "    print(f\"Gridpoint {i_grid+1}/{len_grid}: lat={latitudes[idx_lats[i_grid]]}\"\n",
    "          + f\" ({idx_lat}), lon={longitudes[idx_lons[i_grid]]} ({idx_lon})\")\n",
    "    print(\"\")\n",
    "    \n",
    "    print(f\"Load Parents (state fields)...\")\n",
    "    t_before_load_parents = time.time()\n",
    "    data_parents = utils.load_data(var_parents,\n",
    "                             experiment,\n",
    "                             DATA_FOLDER,\n",
    "                             parents_idx_levs,\n",
    "                             idx_lat,\n",
    "                             idx_lon\n",
    "                            )\n",
    "    time_load_parents = datetime.timedelta(seconds = time.time() - t_before_load_parents)\n",
    "    print(f\"All parents loaded. Time: {time_load_parents}\")\n",
    "    print(\"\")\n",
    "    \n",
    "\n",
    "    print(f\"PCMCI for each child (parameterization):\")\n",
    "    for child in var_children:\n",
    "        \n",
    "        print(f\"Variable: {child.name}\")\n",
    "        \n",
    "        for level in children_idx_levs:\n",
    "            if child.dimensions == 3:\n",
    "                print(f\"... find causal links for {child.name} at level: {level[0]} hPa [{level[1]+1}]\")\n",
    "                i_lev = level[1]\n",
    "            else:\n",
    "                print(f\"... find causal links for {child.name}\")\n",
    "                i_lev = 0\n",
    "                \n",
    "            data_child = utils.load_data([child],\n",
    "                                   experiment,\n",
    "                                   DATA_FOLDER,\n",
    "                                   [level],\n",
    "                                   idx_lat,\n",
    "                                   idx_lon)\n",
    "            data = [*data_parents, *data_child]\n",
    "            \n",
    "            # Find links\n",
    "            t_before_find_links = time.time()\n",
    "            results = algorithm.find_links(data, list_pc_alpha, 0)\n",
    "            time_links = datetime.timedelta(seconds = time.time() - t_before_find_links)\n",
    "            print(f\"Links found. Time: {time_links}\")\n",
    "\n",
    "            utils.save_results(results, child, i_lev, i_lat, i_lon, experiment, output_folder)\n",
    "\n",
    "            if child.dimensions == 2:\n",
    "                break # Stop executing; just one level\n",
    "        print(\"\")\n",
    "    \n",
    "    time_point = datetime.timedelta(seconds = time.time() - t_before_load_parents)\n",
    "    print(f\"PCMCI in gridpoint finished. Time: {time_point}\")\n",
    "    print(\"\"); print(\"\")\n",
    "\n",
    "print(\"\")\n",
    "total_time = datetime.timedelta(seconds = time.time() - t_start)\n",
    "print(f\"Execution complete. Total time: {total_time}\")    "
   ]
  },
  {
   "cell_type": "code",
   "execution_count": null,
   "metadata": {},
   "outputs": [],
   "source": [
    "# print(results.keys())\n",
    "# #print(results[str(list_pc_alpha[0])])\n",
    "# print(results[str(list_pc_alpha[0])])"
   ]
  },
  {
   "cell_type": "code",
   "execution_count": 14,
   "metadata": {},
   "outputs": [],
   "source": [
    "# import datetime\n",
    "# import time\n",
    "# before = time.time()\n",
    "# time.sleep(10)"
   ]
  },
  {
   "cell_type": "code",
   "execution_count": 15,
   "metadata": {},
   "outputs": [
    {
     "name": "stdout",
     "output_type": "stream",
     "text": [
      "10.019274234771729\n"
     ]
    }
   ],
   "source": [
    "# print(t := time.time() - before)"
   ]
  },
  {
   "cell_type": "code",
   "execution_count": null,
   "metadata": {},
   "outputs": [],
   "source": []
  }
 ],
 "metadata": {
  "kernelspec": {
   "display_name": "tg38plus",
   "language": "python",
   "name": "tg38plus"
  },
  "language_info": {
   "codemirror_mode": {
    "name": "ipython",
    "version": 3
   },
   "file_extension": ".py",
   "mimetype": "text/x-python",
   "name": "python",
   "nbconvert_exporter": "python",
   "pygments_lexer": "ipython3",
   "version": "3.8.5"
  }
 },
 "nbformat": 4,
 "nbformat_minor": 4
}
