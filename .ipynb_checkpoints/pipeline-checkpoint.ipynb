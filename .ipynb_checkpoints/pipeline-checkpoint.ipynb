{
 "cells": [
  {
   "cell_type": "code",
   "execution_count": 1,
   "metadata": {},
   "outputs": [],
   "source": [
    "# Python packages\n",
    "import numpy                  as np\n",
    "from pathlib              import Path\n",
    "\n",
    "# Utils\n",
    "from   utils.constants    import SPCAM_Vars\n",
    "from   utils.constants    import DATA_FOLDER, ANCIL_FILE, tau_min, tau_max, significance, experiment\n",
    "import utils.utils            as utils\n",
    "import utils.links            as links\n",
    "import utils.pcmci_algorithm  as algorithm"
   ]
  },
  {
   "cell_type": "markdown",
   "metadata": {},
   "source": [
    "## Variables to be processed"
   ]
  },
  {
   "cell_type": "code",
   "execution_count": 2,
   "metadata": {},
   "outputs": [],
   "source": [
    "'''\n",
    "This will be given via a wrapper (bash) or config file\n",
    "'''\n",
    "# spcam_parents      = ['tbp','qbp','vbp','ps','solin','shflx','lhflx']\n",
    "# spcam_children     = ['tphystnd','prect', 'fsns', 'flns']\n",
    "spcam_parents      = ['tbp','ps']\n",
    "spcam_children     = ['flns']\n",
    "spcam_vars_include = spcam_parents + spcam_children"
   ]
  },
  {
   "cell_type": "code",
   "execution_count": 3,
   "metadata": {},
   "outputs": [],
   "source": [
    "SPCAM_Vars    = [var for var in SPCAM_Vars if var.label in spcam_vars_include]\n",
    "spcam_3d_vars = [var for var in SPCAM_Vars if var.dimensions == 3]\n",
    "spcam_2d_vars = [var for var in SPCAM_Vars if var.dimensions == 2]\n",
    "input_vars    = [var for var in SPCAM_Vars if var.type == 'in']\n",
    "output_vars   = [var for var in SPCAM_Vars if var.type == 'out']"
   ]
  },
  {
   "cell_type": "markdown",
   "metadata": {},
   "source": [
    "# Main program"
   ]
  },
  {
   "cell_type": "markdown",
   "metadata": {},
   "source": [
    "## Options\n",
    "This should ideally be read from a configuration file"
   ]
  },
  {
   "cell_type": "code",
   "execution_count": 8,
   "metadata": {},
   "outputs": [],
   "source": [
    "# Options\n",
    "#experiment = '002_train_1_year'  # \"experiment\" to be used\n",
    "\n",
    "#region    = None\n",
    "region     = [ [5,7] , [120,120] ] # [ [lat1, lat2], [lon1, lon2]]\n",
    "if region is not None:\n",
    "    gridpoints = utils.get_gridpoints(region)\n",
    "else:\n",
    "    gridpoints = None # All\n",
    "# gridpoints = [\n",
    "#         [5, 120],             # \"Tropical\" region\n",
    "#         [6, 120],\n",
    "#         [7, 120]\n",
    "# ]\n",
    "\n",
    "target_levels = None # All\n",
    "target_levels = [1000, 700, 300, 80] # Nearest level (hPa)\n",
    "pressures     = [850, 700]\n",
    "if pressures is not None and target_levels is None:\n",
    "    target_levels = utils.get_levels(pressures)\n",
    "\n",
    "#pc_alpha      = None\n",
    "# TODO\n",
    "# Check with these values with a few columns, use selection for the rest\n",
    "# Which alpha gives the right physics?\n",
    "list_pc_alpha = [0.001, 0.002, 0.005, 0.01, 0.02, 0.05, 0.1, 0.2]\n",
    "\n",
    "verbosity = 2\n",
    "\n",
    "output_folder = \"./test_outputs\""
   ]
  },
  {
   "cell_type": "code",
   "execution_count": 9,
   "metadata": {},
   "outputs": [
    {
     "data": {
      "text/plain": [
       "([[4.185920533189154, 120.9375], [6.976533553948636, 120.9375]],\n",
       " masked_array(data=[691.38943031, 763.40448111, 820.85836865, 859.53476653],\n",
       "              mask=False,\n",
       "        fill_value=1e+20))"
      ]
     },
     "execution_count": 9,
     "metadata": {},
     "output_type": "execute_result"
    }
   ],
   "source": [
    "gridpoints, target_levels"
   ]
  },
  {
   "cell_type": "code",
   "execution_count": 10,
   "metadata": {},
   "outputs": [],
   "source": [
    "levels, latitudes, longitudes = utils.read_ancilaries(Path(DATA_FOLDER, ANCIL_FILE))\n",
    "# idx_levs format: target level, index of closest value\n",
    "if target_levels is not None:\n",
    "    idx_levs = [[lev, utils.find_closest_value(levels, lev)]\n",
    "                        for lev in target_levels]\n",
    "else:\n",
    "    idx_levs = [[round(lev, 2), i] for i, lev in enumerate(levels)]\n",
    "    \n",
    "# #print(levels[idx_levs])\n",
    "# for target, idx in idx_levs:\n",
    "#    print(f\"target = {target},\\tindex = {idx},\\tlevel = {levels[idx]}\")\n",
    "\n",
    "if gridpoints is not None:\n",
    "    idx_lats = [utils.find_closest_value(latitudes, gridpoint[0])      for gridpoint in gridpoints]\n",
    "    idx_lons = [utils.find_closest_longitude(longitudes, gridpoint[1]) for gridpoint in gridpoints]\n",
    "else:\n",
    "    idx_lats = [idx_lat for idx_lat in range(len(latitudes))\n",
    "                        for idx_lon in range(len(longitudes))]\n",
    "    idx_lons = [idx_lon for idx_lat in range(len(latitudes))\n",
    "                        for idx_lon in range(len(longitudes))]"
   ]
  },
  {
   "cell_type": "code",
   "execution_count": 11,
   "metadata": {},
   "outputs": [
    {
     "name": "stdout",
     "output_type": "stream",
     "text": [
      "[33, 34]\n",
      "[43, 43]\n",
      "[[691.3894303143024, 20], [763.404481112957, 21], [820.8583686500788, 22], [859.5347665250301, 23]]\n"
     ]
    }
   ],
   "source": [
    "print(idx_lats)\n",
    "print(idx_lons)\n",
    "print(idx_levs)"
   ]
  },
  {
   "cell_type": "code",
   "execution_count": 12,
   "metadata": {},
   "outputs": [
    {
     "name": "stdout",
     "output_type": "stream",
     "text": [
      "Gridpoint 1/2: lat=4.185920533189154 (33), lon=120.9375 (43)\n",
      "\n",
      "Load Parents (state fields)...\n",
      "Loading (tbp, 3, in), tbp, level: 21\n",
      "Loading (tbp, 3, in), tbp, level: 22\n",
      "Loading (tbp, 3, in), tbp, level: 23\n",
      "Loading (tbp, 3, in), tbp, level: 24\n",
      "Loading (ps, 2, in), ps, level: 21\n",
      "All parents loaded. Time: 0:00:25.494189\n",
      "\n",
      "PCMCI for each child (parameterization):\n",
      "Variable: flns\n",
      "Loading (flns, 2, out), flns, level: 21\n",
      "... find causal links for flns at level: 691.3894303143024 hPa [21]\n",
      "Links found. Time: 0:00:00.664080\n",
      "Saved results into \"test_outputs/flns_21_lat4.185920533189154_lon120.9375_002_train_1_year.obj\"\n",
      "\n",
      "PCMCI in gridpoint finished. Time: 0:00:31.717507\n",
      "\n",
      "\n",
      "Gridpoint 2/2: lat=6.976533553948636 (34), lon=120.9375 (43)\n",
      "\n",
      "Load Parents (state fields)...\n",
      "Loading (tbp, 3, in), tbp, level: 21\n",
      "Loading (tbp, 3, in), tbp, level: 22\n",
      "Loading (tbp, 3, in), tbp, level: 23\n",
      "Loading (tbp, 3, in), tbp, level: 24\n",
      "Loading (ps, 2, in), ps, level: 21\n",
      "All parents loaded. Time: 0:00:09.313223\n",
      "\n",
      "PCMCI for each child (parameterization):\n",
      "Variable: flns\n",
      "Loading (flns, 2, out), flns, level: 21\n",
      "... find causal links for flns at level: 691.3894303143024 hPa [21]\n",
      "Links found. Time: 0:00:00.109888\n",
      "Saved results into \"test_outputs/flns_21_lat6.976533553948636_lon120.9375_002_train_1_year.obj\"\n",
      "\n",
      "PCMCI in gridpoint finished. Time: 0:00:12.099873\n",
      "\n",
      "\n",
      "\n",
      "Execution complete. Total time: 0:00:43.819030\n"
     ]
    }
   ],
   "source": [
    "var_list = SPCAM_Vars\n",
    "\n",
    "var_parents = [var for var in var_list if var.type == \"in\"]\n",
    "var_children = [var for var in var_list if var.type == \"out\"]\n",
    "\n",
    "import time\n",
    "import datetime\n",
    "\n",
    "# Load data\n",
    "len_grid = len(gridpoints)\n",
    "t_start = time.time()\n",
    "for i_grid, (i_lat, i_lon) in enumerate(gridpoints):\n",
    "    \n",
    "    idx_lat = idx_lats[i_grid]\n",
    "    idx_lon = idx_lons[i_grid]\n",
    "    \n",
    "    print(f\"Gridpoint {i_grid+1}/{len_grid}: lat={latitudes[idx_lats[i_grid]]}\"\n",
    "          + f\" ({idx_lat}), lon={longitudes[idx_lons[i_grid]]} ({idx_lon})\")\n",
    "    print(\"\")\n",
    "    \n",
    "    print(f\"Load Parents (state fields)...\")\n",
    "    t_before_load_parents = time.time()\n",
    "    data_parents = utils.load_data(var_parents,\n",
    "                             experiment,\n",
    "                             DATA_FOLDER,\n",
    "                             idx_levs[:], # Filter for testing purposes\n",
    "                             idx_lat,\n",
    "                             idx_lon\n",
    "                            )\n",
    "    time_load_parents = datetime.timedelta(seconds = time.time() - t_before_load_parents)\n",
    "    print(f\"All parents loaded. Time: {time_load_parents}\")\n",
    "    print(\"\")\n",
    "    \n",
    "\n",
    "    print(f\"PCMCI for each child (parameterization):\")\n",
    "    for child in var_children:\n",
    "        \n",
    "        print(f\"Variable: {child.name}\")\n",
    "        \n",
    "        for level in idx_levs:\n",
    "            data_child = utils.load_data([child], # Expects iterable\n",
    "                                   experiment,\n",
    "                                   DATA_FOLDER,\n",
    "                                   [level], # Expects iterable\n",
    "                                   idx_lat,\n",
    "                                   idx_lon)\n",
    "            data = [*data_parents, *data_child]\n",
    "\n",
    "            print(f\"... find causal links for {child.name} at level: {level[0]} hPa [{level[1]+1}]\")\n",
    "            t_before_find_links = time.time()\n",
    "            \n",
    "            # Find links\n",
    "            results = algorithm.find_links(data, list_pc_alpha, 0)\n",
    "            time_links = datetime.timedelta(\n",
    "                    seconds = time.time() - t_before_find_links)\n",
    "            print(f\"Links found. Time: {time_links}\")\n",
    "\n",
    "            utils.save_results(results, child, level[1], i_lat, i_lon,\n",
    "                               experiment, output_folder)\n",
    "\n",
    "            if child.dimensions == 2:\n",
    "                break # Stop executing after the first level\n",
    "        print(\"\")\n",
    "    \n",
    "    time_point = datetime.timedelta(seconds = time.time() - t_before_load_parents)\n",
    "    print(f\"PCMCI in gridpoint finished. Time: {time_point}\")\n",
    "    print(\"\"); print(\"\")\n",
    "\n",
    "print(\"\")\n",
    "total_time = datetime.timedelta(seconds = time.time() - t_start)\n",
    "print(f\"Execution complete. Total time: {total_time}\")    "
   ]
  },
  {
   "cell_type": "code",
   "execution_count": null,
   "metadata": {},
   "outputs": [],
   "source": [
    "# print(results.keys())\n",
    "# #print(results[str(list_pc_alpha[0])])\n",
    "# print(results[str(list_pc_alpha[0])])"
   ]
  },
  {
   "cell_type": "code",
   "execution_count": 14,
   "metadata": {},
   "outputs": [],
   "source": [
    "# import datetime\n",
    "# import time\n",
    "# before = time.time()\n",
    "# time.sleep(10)"
   ]
  },
  {
   "cell_type": "code",
   "execution_count": 15,
   "metadata": {},
   "outputs": [
    {
     "name": "stdout",
     "output_type": "stream",
     "text": [
      "10.019274234771729\n"
     ]
    }
   ],
   "source": [
    "# print(t := time.time() - before)"
   ]
  },
  {
   "cell_type": "code",
   "execution_count": null,
   "metadata": {},
   "outputs": [],
   "source": []
  }
 ],
 "metadata": {
  "kernelspec": {
   "display_name": "tg38plus",
   "language": "python",
   "name": "tg38plus"
  },
  "language_info": {
   "codemirror_mode": {
    "name": "ipython",
    "version": 3
   },
   "file_extension": ".py",
   "mimetype": "text/x-python",
   "name": "python",
   "nbconvert_exporter": "python",
   "pygments_lexer": "ipython3",
   "version": "3.8.5"
  }
 },
 "nbformat": 4,
 "nbformat_minor": 4
}
