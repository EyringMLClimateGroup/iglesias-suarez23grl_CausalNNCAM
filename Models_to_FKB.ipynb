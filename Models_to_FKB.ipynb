{
 "cells": [
  {
   "cell_type": "code",
   "execution_count": 1,
   "metadata": {},
   "outputs": [],
   "source": [
    "import site\n",
    "#site.addsitedir(\"/work/bd1179/b309198/causal_discovery/FKB\") # Path to FKB installation\n",
    "site.addsitedir(\"/work/bd1179/b309172/analysis/usmile/causality_convection/python/FKB\")"
   ]
  },
  {
   "cell_type": "code",
   "execution_count": 2,
   "metadata": {},
   "outputs": [],
   "source": [
    "from KerasWeightsProcessing.convert_weights import h5_to_txt"
   ]
  },
  {
   "cell_type": "code",
   "execution_count": 3,
   "metadata": {},
   "outputs": [],
   "source": [
    "#MODELS_FOLDER = \"/work/bd1179/b309198/causal_discovery/causalnncam/models\"\n",
    "MODELS_FOLDER = \"/work/bd1179/b309172/analysis/usmile/causality_convection/python/causalnncam/models\""
   ]
  },
  {
   "cell_type": "code",
   "execution_count": 4,
   "metadata": {},
   "outputs": [],
   "source": [
    "from pathlib import Path\n",
    "import warnings\n",
    "warnings.filterwarnings('ignore')\n",
    "\n",
    "model_paths = [p for p in Path(MODELS_FOLDER).rglob(\"*model.h5\")]\n",
    "for path in model_paths:\n",
    "    fkb_name = path.name.replace(\".h5\", \".txt\")\n",
    "    h5_to_txt(\n",
    "        weights_file_name=path, \n",
    "        output_file_name=Path(path.parent, fkb_name)\n",
    "    )"
   ]
  },
  {
   "cell_type": "code",
   "execution_count": null,
   "metadata": {},
   "outputs": [],
   "source": []
  }
 ],
 "metadata": {
  "kernelspec": {
   "display_name": "causalnncam",
   "language": "python",
   "name": "causalnncam"
  },
  "language_info": {
   "codemirror_mode": {
    "name": "ipython",
    "version": 3
   },
   "file_extension": ".py",
   "mimetype": "text/x-python",
   "name": "python",
   "nbconvert_exporter": "python",
   "pygments_lexer": "ipython3",
   "version": "3.8.5"
  }
 },
 "nbformat": 4,
 "nbformat_minor": 4
}
