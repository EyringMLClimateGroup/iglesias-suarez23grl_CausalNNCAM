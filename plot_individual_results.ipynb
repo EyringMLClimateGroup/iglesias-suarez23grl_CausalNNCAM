{
 "cells": [
  {
   "cell_type": "markdown",
   "metadata": {},
   "source": [
    "# Plot individual results\n",
    "Do a Tigramite plot for each pc alpha in each variable in each gridpoint."
   ]
  },
  {
   "cell_type": "markdown",
   "metadata": {},
   "source": [
    "## Specifications"
   ]
  },
  {
   "cell_type": "code",
   "execution_count": null,
   "metadata": {},
   "outputs": [],
   "source": [
    "import sys\n",
    "import time\n",
    "import datetime\n",
    "from pathlib import Path\n",
    "\n",
    "import utils.utils as utils\n",
    "from utils.plotting import plot_links\n",
    "\n",
    "from utils.setup import Setup\n",
    "\n",
    "argv           = sys.argv[1:]\n",
    "# argv           = ['-c', 'cfg_pipeline.yml']\n",
    "# argv           = ['-c', 'cfg_concat_lon120.yml']\n",
    "# argv           = ['-c', 'cfg_single_lon120.yml']\n",
    "\n",
    "setup = Setup(argv)\n",
    "\n",
    "Path(setup.plots_folder).mkdir(parents=True, exist_ok=True)\n"
   ]
  },
  {
   "cell_type": "markdown",
   "metadata": {},
   "source": [
    "### Plot every pc alpha of a single file"
   ]
  },
  {
   "cell_type": "code",
   "execution_count": null,
   "metadata": {},
   "outputs": [],
   "source": [
    "# Load data\n",
    "len_grid = len(setup.gridpoints)\n",
    "t_start = time.time()\n",
    "for i_grid, (lat, lon) in enumerate(setup.gridpoints):\n",
    "    if setup.analysis == \"concat\":\n",
    "        print(\"Analysis of concatenated files is currently unsupported, skipping.\")\n",
    "        break\n",
    "    idx_lat = setup.idx_lats[i_grid]\n",
    "    idx_lon = setup.idx_lons[i_grid]\n",
    "    \n",
    "    t_start_gridpoint = time.time()\n",
    "    print(f\"Gridpoint {i_grid+1}/{len_grid}:\"\n",
    "          + f\"lat={lat} ({idx_lat}), lon={lon} ({idx_lon})\")\n",
    "    for child in setup.var_children:\n",
    "        print(f\"Variable: {child.name}\")\n",
    "        if child.dimensions == 2:\n",
    "            child_levels = [[setup.levels[-1],0]]\n",
    "        elif child.dimensions == 3:\n",
    "            child_levels = setup.children_idx_levs\n",
    "        for level in child_levels:\n",
    "            results_file = utils.generate_results_filename_single(\n",
    "                    child, level[1], lat, lon, setup.ind_test_name,\n",
    "                    setup.experiment, setup.output_file_pattern,\n",
    "                    setup.output_folder)\n",
    "            if not results_file.is_file():\n",
    "                print(f\"Results file {results_file} not found, skipping.\")\n",
    "                continue\n",
    "            results = utils.load_results(results_file)\n",
    "\n",
    "            print(f\"Plotting links for {child.name} at level {level[1]+1}\")\n",
    "            # Plotting\n",
    "            for pc_alpha, alpha_result in results.items():\n",
    "                plot_file = Path(\n",
    "                        setup.plots_folder,\n",
    "                        setup.plot_file_pattern.format(\n",
    "                            var_name = child.name,\n",
    "                            level = level[1]+1,\n",
    "                            lat = int(lat),\n",
    "                            lon = int(lon),\n",
    "                            pc_alpha = pc_alpha,\n",
    "                            ind_test = setup.ind_test_name,\n",
    "                            experiment = setup.experiment\n",
    "                        )\n",
    "                )\n",
    "                if not setup.overwrite and plot_file.is_file():\n",
    "#                     print(f\"Found file {plot_file}, skipping.\")\n",
    "                    continue # Ignore this result\n",
    "                if len(alpha_result) > 0:\n",
    "                    t_before_plot_links = time.time()\n",
    "                    print(f\"pc_alpha = {pc_alpha}\")\n",
    "                    print(f\"Plotting to {plot_file}\")\n",
    "                    plot_links(alpha_result[\"links\"],\n",
    "                               alpha_result[\"var_names\"],\n",
    "                               save_name = plot_file)\n",
    "                    time_plot_links = datetime.timedelta(\n",
    "                            seconds = time.time() - t_before_plot_links\n",
    "                    )\n",
    "                    print(f\"Plotted. Time: {time_plot_links}\")\n",
    "                else:\n",
    "                    print(\"Results are empty, skipping.\")\n",
    "\n",
    "    time_point = datetime.timedelta(\n",
    "            seconds = time.time() - t_start_gridpoint)\n",
    "    print(f\"All links in gridpoint plotted. Time: {time_point}\")\n",
    "total_time = datetime.timedelta(seconds = time.time() - t_start)\n",
    "print(f\"Execution complete. Total time: {total_time}\")\n",
    "    "
   ]
  }
 ],
 "metadata": {
  "kernelspec": {
   "display_name": "Tigramite",
   "language": "python",
   "name": "tigramite"
  },
  "language_info": {
   "codemirror_mode": {
    "name": "ipython",
    "version": 3
   },
   "file_extension": ".py",
   "mimetype": "text/x-python",
   "name": "python",
   "nbconvert_exporter": "python",
   "pygments_lexer": "ipython3",
   "version": "3.8.5"
  }
 },
 "nbformat": 4,
 "nbformat_minor": 4
}
