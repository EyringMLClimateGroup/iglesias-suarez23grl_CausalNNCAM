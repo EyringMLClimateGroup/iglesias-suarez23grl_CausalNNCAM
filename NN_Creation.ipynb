{
 "cells": [
  {
   "cell_type": "code",
   "execution_count": null,
   "metadata": {},
   "outputs": [],
   "source": [
    "import utils.utils as utils\n",
    "example_aggregated = \"./aggregated_results/cfg_single_lon120.obj\"\n",
    "aggregated_results = utils.load_results(example_aggregated)\n"
   ]
  },
  {
   "cell_type": "markdown",
   "metadata": {},
   "source": [
    "# Create Neural Networks"
   ]
  },
  {
   "cell_type": "code",
   "execution_count": null,
   "metadata": {},
   "outputs": [],
   "source": [
    "from tensorflow.keras import Sequential, Input\n",
    "from tensorflow.keras.layers import Dense\n",
    "\n",
    "def dense_nn(input_shape, output_shape, hidden_layers, activation):\n",
    "    \"\"\"\n",
    "    Creates a dense NN in base of the parameters received\n",
    "    \"\"\"\n",
    "    model = Sequential()\n",
    "    model.add(Input(shape = input_shape))\n",
    "    \n",
    "    for n_layer_nodes in hidden_layers:\n",
    "        model.add(Dense(n_layer_nodes, activation = activation))\n",
    "    \n",
    "    model.add(Dense(output_shape))\n",
    "    return model\n",
    "    \n",
    "    \n",
    "def fc_model(input_shape, output_shape, hidden_layers, activation, conservation_layer=False,\n",
    "             inp_sub=None, inp_div=None, norm_q=None):\n",
    "    inp = Input(shape=(input_shape,))\n",
    "\n",
    "    # First hidden layer\n",
    "    x = Dense(hidden_layers[0])(inp)\n",
    "    x = act_layer(activation)(x)\n",
    "\n",
    "    # Remaining hidden layers\n",
    "    for h in hidden_layers[1:]:\n",
    "        x = Dense(h)(x)\n",
    "        x = act_layer(activation)(x)\n",
    "\n",
    "    if conservation_layer:\n",
    "        x = SurRadLayer(inp_sub, inp_div, norm_q)([inp, x])\n",
    "        x = MassConsLayer(inp_sub, inp_div, norm_q)([inp, x])\n",
    "        out = EntConsLayer(inp_sub, inp_div, norm_q)([inp, x])\n",
    "\n",
    "    else:\n",
    "        out = Dense(output_shape)(x)\n",
    "\n",
    "    return tf.keras.models.Model(inp, out)\n"
   ]
  },
  {
   "cell_type": "code",
   "execution_count": null,
   "metadata": {},
   "outputs": [],
   "source": [
    "class ModelDescription:\n",
    "\n",
    "    def __init__(self, variable, pc_alpha, threshold, parents):\n",
    "        self.variable = variable\n",
    "        self.pc_alpha = pc_alpha\n",
    "        self.threshold = threshold\n",
    "        self.parents = parents\n",
    "        self.model = self.build_model()\n",
    "    \n",
    "    def build_model(self):\n",
    "        input_shape = len(parents)\n",
    "        input_shape = (input_shape, )\n",
    "        model = dense_nn(\n",
    "            input_shape = input_shape,\n",
    "            output_shape = 1, # Only one variable\n",
    "            hidden_layers = [32, 32, 32],\n",
    "            activation = \"relu\",\n",
    "        )\n",
    "        return model\n",
    "    \n",
    "    def __str__(self):\n",
    "        return f\"{self.variable}: a{self.pc_alpha}-t{self.threshold}\"\n",
    "    \n",
    "    def __repr__(self):\n",
    "        return repr(str(self))\n",
    "    \n",
    "    def __hash__(self):\n",
    "        return hash(str(self))\n",
    "    \n",
    "    def __eq__(self, other):\n",
    "        return str(self) == str(other)\n",
    "\n",
    "\n",
    "model_descriptions = list()\n",
    "for variable, pc_alpha_dict in aggregated_results.items():\n",
    "    print(variable)\n",
    "    for pc_alpha, pc_alpha_results in pc_alpha_dict.items():\n",
    "        for threshold, parents in pc_alpha_results[\"parents\"].items():\n",
    "            model_description = ModelDescription(\n",
    "                variable, pc_alpha, threshold, parents\n",
    "            )\n",
    "            model_descriptions.append(model_description)\n"
   ]
  },
  {
   "cell_type": "markdown",
   "metadata": {},
   "source": [
    "# Training"
   ]
  },
  {
   "cell_type": "code",
   "execution_count": null,
   "metadata": {},
   "outputs": [],
   "source": [
    "for model_description in model_descriptions:\n",
    "    print(model_description)\n",
    "    \n"
   ]
  },
  {
   "cell_type": "code",
   "execution_count": null,
   "metadata": {},
   "outputs": [],
   "source": []
  }
 ],
 "metadata": {
  "kernelspec": {
   "display_name": "Tigramite",
   "language": "python",
   "name": "tigramite"
  },
  "language_info": {
   "codemirror_mode": {
    "name": "ipython",
    "version": 3
   },
   "file_extension": ".py",
   "mimetype": "text/x-python",
   "name": "python",
   "nbconvert_exporter": "python",
   "pygments_lexer": "ipython3",
   "version": "3.8.5"
  }
 },
 "nbformat": 4,
 "nbformat_minor": 4
}
