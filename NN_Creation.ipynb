{
 "cells": [
  {
   "cell_type": "markdown",
   "metadata": {},
   "source": [
    "# Neural Network creation\n",
    "\n",
    "This script takes results from \"aggregated results\", and generates neural\n",
    "networks based on them.\n"
   ]
  },
  {
   "cell_type": "code",
   "execution_count": null,
   "metadata": {},
   "outputs": [],
   "source": [
    "import sys\n",
    "from utils.setup import SetupNeuralNetworks\n",
    "\n",
    "argv           = sys.argv[1:]\n",
    "# argv           = ['-c', 'cfg_single_lon120.yml']\n",
    "argv = [\"-c\", \"cfg_testing.yml\"]\n",
    "\n",
    "setup = SetupNeuralNetworks(argv)\n"
   ]
  },
  {
   "cell_type": "markdown",
   "metadata": {},
   "source": [
    "# Create Neural Networks"
   ]
  },
  {
   "cell_type": "markdown",
   "metadata": {},
   "source": [
    "Rasp et al.'s CBRAIN `fc_model` is used here for reference. As we are\n",
    "doing a simpler version, I've opted to create our own, shorter function\n",
    "for NN creation."
   ]
  },
  {
   "cell_type": "code",
   "execution_count": null,
   "metadata": {},
   "outputs": [],
   "source": []
  },
  {
   "cell_type": "markdown",
   "metadata": {},
   "source": [
    "## List of models"
   ]
  },
  {
   "cell_type": "code",
   "execution_count": null,
   "metadata": {},
   "outputs": [],
   "source": [
    "from neural_networks.models import generate_models\n",
    "model_descriptions = generate_models(setup)"
   ]
  },
  {
   "cell_type": "markdown",
   "metadata": {},
   "source": [
    "## Read aggregated results and generate CausalSingleNN models"
   ]
  },
  {
   "cell_type": "markdown",
   "metadata": {},
   "source": [
    "Currently, results are loaded from a previously created file. This was\n",
    "made for testing purposes, and we may want to replace it for an analysis.\n",
    "\n",
    "In that replacement, the idea would be to execute more or less the same\n",
    "as aggregate_results up to the moment the file is currently saved, and\n",
    "continue with that object (aggregated results) here."
   ]
  },
  {
   "cell_type": "markdown",
   "metadata": {},
   "source": [
    "## Generate SingleNN models"
   ]
  },
  {
   "cell_type": "code",
   "execution_count": null,
   "metadata": {},
   "outputs": [],
   "source": []
  },
  {
   "cell_type": "markdown",
   "metadata": {},
   "source": [
    "## Generate CausalSingleNN models"
   ]
  },
  {
   "cell_type": "code",
   "execution_count": null,
   "metadata": {},
   "outputs": [],
   "source": []
  },
  {
   "cell_type": "markdown",
   "metadata": {},
   "source": [
    "# Training"
   ]
  },
  {
   "cell_type": "markdown",
   "metadata": {},
   "source": [
    "## Data generator"
   ]
  },
  {
   "cell_type": "code",
   "execution_count": null,
   "metadata": {},
   "outputs": [],
   "source": [
    "from neural_networks.data_generator import build_train_generator, build_valid_generator"
   ]
  },
  {
   "cell_type": "markdown",
   "metadata": {},
   "source": [
    "## Fit models"
   ]
  },
  {
   "cell_type": "markdown",
   "metadata": {},
   "source": [
    "Train all models in the model list and store the results."
   ]
  },
  {
   "cell_type": "code",
   "execution_count": null,
   "metadata": {},
   "outputs": [],
   "source": [
    "from pathlib import Path\n",
    "\n",
    "import tensorflow as tf\n",
    "from tensorflow.keras.callbacks import LearningRateScheduler, EarlyStopping\n",
    "from neural_networks.cbrain.learning_rate_schedule import LRUpdate\n",
    "from neural_networks.cbrain.save_weights import save_norm\n",
    "\n",
    "for model_description in model_descriptions:\n",
    "    print(model_description)\n",
    "    \n",
    "    input_vars_dict = model_description.input_vars_dict\n",
    "    output_vars_dict = model_description.output_vars_dict\n",
    "    \n",
    "    with build_train_generator(\n",
    "        input_vars_dict, output_vars_dict, setup\n",
    "    ) as train_gen, build_valid_generator(\n",
    "        input_vars_dict, output_vars_dict, setup\n",
    "    ) as valid_gen:\n",
    "        lrs = LearningRateScheduler(LRUpdate(\n",
    "            init_lr = setup.init_lr,\n",
    "            step = setup.step_lr,\n",
    "            divide = setup.divide_lr\n",
    "        ))\n",
    "        tensorboard = tf.keras.callbacks.TensorBoard(\n",
    "            log_dir=Path(\n",
    "                model_description.get_path(setup.tensorboard_folder),\n",
    "                model_description.get_filename()\n",
    "            ),\n",
    "            histogram_freq=0,\n",
    "            write_graph=True,\n",
    "            write_images=False,\n",
    "            update_freq=\"epoch\",\n",
    "            profile_batch=2,\n",
    "            embeddings_freq=0,\n",
    "            embeddings_metadata=None,\n",
    "        )\n",
    "        early_stop = EarlyStopping(\n",
    "            monitor=\"val_loss\",\n",
    "            patience=setup.train_patience\n",
    "        )\n",
    "        model_description.fit_model(\n",
    "            x = train_gen,\n",
    "            validation_data = valid_gen,\n",
    "            epochs = setup.epochs,\n",
    "            callbacks = [lrs, tensorboard, early_stop],\n",
    "            verbose = setup.train_verbose,\n",
    "        )\n",
    "        model_description.save_model(setup.nn_output_path)\n",
    "        # Doing this after saving the model avoids having to create\n",
    "        # the folder ourserlves\n",
    "        save_norm( \n",
    "            input_transform = train_gen.input_transform,\n",
    "            output_transform = train_gen.output_transform, \n",
    "            save_dir = str(model_description.get_path(setup.nn_output_path)),\n",
    "            filename = model_description.get_filename()\n",
    "        )\n",
    "\n"
   ]
  }
 ],
 "metadata": {
  "kernelspec": {
   "display_name": "CausalNNCAM",
   "language": "python",
   "name": "causalnncam"
  },
  "language_info": {
   "codemirror_mode": {
    "name": "ipython",
    "version": 3
   },
   "file_extension": ".py",
   "mimetype": "text/x-python",
   "name": "python",
   "nbconvert_exporter": "python",
   "pygments_lexer": "ipython3",
   "version": "3.7.10"
  }
 },
 "nbformat": 4,
 "nbformat_minor": 4
}
