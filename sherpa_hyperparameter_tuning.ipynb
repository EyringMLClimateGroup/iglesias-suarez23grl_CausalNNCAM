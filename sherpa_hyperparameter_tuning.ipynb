{
 "cells": [
  {
   "cell_type": "markdown",
   "metadata": {},
   "source": [
    "# Sherpa hyperparameter tuning"
   ]
  },
  {
   "cell_type": "markdown",
   "metadata": {},
   "source": [
    "## General setup"
   ]
  },
  {
   "cell_type": "code",
   "execution_count": null,
   "metadata": {},
   "outputs": [],
   "source": [
    "import sys\n",
    "from utils.setup import SetupSherpa\n",
    "\n",
    "argv = sys.argv[1:]\n",
    "# argv = [\"-c\", \"nn_config/cfg_sherpa.yml\"]\n",
    "\n",
    "setup = SetupSherpa(argv)"
   ]
  },
  {
   "cell_type": "code",
   "execution_count": null,
   "metadata": {},
   "outputs": [],
   "source": [
    "from neural_networks.models import generate_input_list\n",
    "from neural_networks.models import generate_output_list\n",
    "input_list        = generate_input_list(setup)\n",
    "output_list       = generate_output_list(setup)\n",
    "setup.output_list = output_list\n",
    "spcam_outputs     = setup.spcam_outputs\n",
    "children_idx_levs = setup.children_idx_levs"
   ]
  },
  {
   "cell_type": "markdown",
   "metadata": {},
   "source": [
    "# Sherpa"
   ]
  },
  {
   "cell_type": "markdown",
   "metadata": {},
   "source": [
    "## Setup\n",
    "https://parameter-sherpa.readthedocs.io/en/latest/gettingstarted/guide.html"
   ]
  },
  {
   "cell_type": "code",
   "execution_count": null,
   "metadata": {},
   "outputs": [],
   "source": [
    "import sherpa"
   ]
  },
  {
   "cell_type": "code",
   "execution_count": null,
   "metadata": {},
   "outputs": [],
   "source": [
    "max_num_trials    = 50\n",
    "trials_per_output = int(max_num_trials/len(output_list)) # Evenly split among outputs\n",
    "alg        = sherpa.algorithms.RandomSearch(max_num_trials=max_num_trials)\n",
    "causal_par = [sherpa.Ordinal('pc_alphas',  [0.001, 0.01, 0.1]),\n",
    "              sherpa.Ordinal('thresholds', [.15, .2, .25])]\n",
    "common_par = [sherpa.Continuous(name='init_lr', range=[0.001, 0.1], scale='log'),\n",
    "              sherpa.Continuous(name='divide_lr', range=[1, 2]),\n",
    "              sherpa.Discrete(name='num_layers', range=[1, 10]),\n",
    "              sherpa.Ordinal('num_nodes', [32, 64, 128, 256])]"
   ]
  },
  {
   "cell_type": "markdown",
   "metadata": {},
   "source": [
    "## Sherpa study "
   ]
  },
  {
   "cell_type": "code",
   "execution_count": null,
   "metadata": {},
   "outputs": [],
   "source": [
    "parameters = [causal_par+common_par,common_par][setup.nn_type == 'SingleNN']\n",
    "\n",
    "study = sherpa.Study(parameters=parameters,\n",
    "                     algorithm=alg,\n",
    "                     lower_is_better=True,\n",
    "                     dashboard_port=None)"
   ]
  },
  {
   "cell_type": "code",
   "execution_count": null,
   "metadata": {},
   "outputs": [],
   "source": [
    "from neural_networks.cbrain.utils import load_pickle\n",
    "from neural_networks.data_generator import build_train_generator,build_valid_generator\n",
    "from neural_networks.cbrain.data_generator import DataGenerator\n",
    "from neural_networks.models import generate_model_sherpa\n",
    "from neural_networks.models import get_parents_sherpa"
   ]
  },
  {
   "cell_type": "code",
   "execution_count": null,
   "metadata": {},
   "outputs": [],
   "source": [
    "for j, output in enumerate(output_list):        \n",
    "    \n",
    "    print(f\"{output}, j: {j}\")\n",
    "    setup.output        = output\n",
    "    setup.spcam_outputs = [iVar for iVar in spcam_outputs if iVar.value in output]\n",
    "    print(f\"{setup.spcam_outputs}\")\n",
    "    setup.children_idx_levs = [[iLev,iId] for iLev,iId in children_idx_levs \\\n",
    "                                   if str(iLev)[:3] in output]\n",
    "    print(f\"{setup.children_idx_levs}\")\n",
    "    inputs    = [False,input_list][setup.nn_type == 'SingleNN']\n",
    "    pc_alpha  = False\n",
    "    threshold = False\n",
    "    \n",
    "    n_trial = 1\n",
    "    for trial in study:\n",
    "        print(f\"Trial num. = {n_trial}\")\n",
    "            \n",
    "        # Hyperparameters\n",
    "        if setup.nn_type == 'CausalSingleNN':\n",
    "            setup.pc_alpha    = [trial.parameters['pc_alphas']]\n",
    "            setup.thresholds  = [trial.parameters['thresholds']]\n",
    "        setup.init_lr    = trial.parameters['init_lr']\n",
    "        setup.divide_lr  = trial.parameters['divide_lr']\n",
    "        setup.num_layers = trial.parameters['num_layers']\n",
    "        setup.num_nodes  = trial.parameters['num_nodes']\n",
    "        setup.n_trial    = n_trial\n",
    "        \n",
    "        # Causal links?\n",
    "        if setup.nn_type == 'CausalSingleNN' and inputs == False:\n",
    "            inputs, pc_alpha, threshold = get_parents_sherpa(setup)\n",
    "        \n",
    "        # Create the model\n",
    "        model = generate_model_sherpa(setup,\n",
    "                                      parents=inputs,\n",
    "                                      pc_alpha=pc_alpha,\n",
    "                                      threshold=threshold)\n",
    "        print(f\"Training {model}\")\n",
    "            \n",
    "        input_vars_dict  = model.input_vars_dict\n",
    "        output_vars_dict = model.output_vars_dict\n",
    "            \n",
    "        with build_train_generator(\n",
    "            input_vars_dict, output_vars_dict, setup\n",
    "        ) as train_gen, build_valid_generator(\n",
    "            input_vars_dict, output_vars_dict, setup\n",
    "        ) as valid_gen:\n",
    "            \n",
    "            # Train model\n",
    "            for i in range(setup.epochs):\n",
    "                model.model.fit(train_gen)\n",
    "                loss, metric = model.model.evaluate(valid_gen)\n",
    "                study.add_observation(trial=trial, iteration=i,\n",
    "                                      objective=metric,\n",
    "                                      context={'loss': loss})\n",
    "            \n",
    "            study.finalize(trial=trial)\n",
    "            if n_trial == trials_per_output:\n",
    "                break\n",
    "            n_trial += 1\n",
    "\n",
    "        print()\n",
    "    print()"
   ]
  },
  {
   "cell_type": "markdown",
   "metadata": {},
   "source": [
    "## Saving"
   ]
  },
  {
   "cell_type": "code",
   "execution_count": null,
   "metadata": {},
   "outputs": [],
   "source": [
    "from datetime import datetime\n",
    "from pathlib  import Path"
   ]
  },
  {
   "cell_type": "code",
   "execution_count": null,
   "metadata": {},
   "outputs": [],
   "source": [
    "date = datetime.today().strftime('%Y%m%d')\n",
    "path = Path(\"{nn_sherpa_path}/{date}_{nn_type}/\".format(\n",
    "    nn_sherpa_path=setup.nn_sherpa_path, date=date, nn_type = setup.nn_type))\n",
    "Path(path).mkdir(parents=True, exist_ok=True)\n",
    "study.save(output_dir=Path(path))"
   ]
  },
  {
   "cell_type": "markdown",
   "metadata": {},
   "source": [
    "## Load the study"
   ]
  },
  {
   "cell_type": "markdown",
   "metadata": {},
   "source": [
    "study.load_dashboard(Path(path))"
   ]
  },
  {
   "cell_type": "markdown",
   "metadata": {},
   "source": [
    "study.get_best_result()"
   ]
  },
  {
   "cell_type": "markdown",
   "metadata": {},
   "source": []
  }
 ],
 "metadata": {
  "kernelspec": {
   "display_name": "causalnncam",
   "language": "python",
   "name": "causalnncam"
  },
  "language_info": {
   "codemirror_mode": {
    "name": "ipython",
    "version": 3
   },
   "file_extension": ".py",
   "mimetype": "text/x-python",
   "name": "python",
   "nbconvert_exporter": "python",
   "pygments_lexer": "ipython3",
   "version": "3.8.5"
  }
 },
 "nbformat": 4,
 "nbformat_minor": 5
}
