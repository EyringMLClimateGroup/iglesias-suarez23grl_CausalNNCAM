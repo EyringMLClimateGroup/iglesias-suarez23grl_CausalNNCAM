{
 "cells": [
  {
   "cell_type": "code",
   "execution_count": null,
   "metadata": {},
   "outputs": [],
   "source": [
    "[\n",
    "'./nn_config/220404_SHERPA_best/single/cfg_NN_Creation_rasp_parcorr_single_tphystnd_20-24.yml', \n",
    "'./nn_config/220404_SHERPA_best/single/cfg_NN_Creation_rasp_parcorr_single_tphystnd_0-4.yml', \n",
    "'./nn_config/220404_SHERPA_best/single/cfg_NN_Creation_rasp_parcorr_single_phq_20-24.yml', \n",
    "'./nn_config/220404_SHERPA_best/single/cfg_NN_Creation_rasp_parcorr_single_phq_0-4.yml', \n",
    "'./nn_config/220404_SHERPA_best/single/cfg_NN_Creation_rasp_parcorr_single_phq_5-9.yml', \n",
    "'./nn_config/220404_SHERPA_best/single/cfg_NN_Creation_rasp_parcorr_single_flns.yml', \n",
    "'./nn_config/220404_SHERPA_best/single/cfg_NN_Creation_rasp_parcorr_single_fsns.yml', \n",
    "'./nn_config/220404_SHERPA_best/single/cfg_NN_Creation_rasp_parcorr_single_tphystnd_15-19.yml', \n",
    "'./nn_config/220404_SHERPA_best/single/cfg_NN_Creation_rasp_parcorr_single_phq_15-19.yml', \n",
    "'./nn_config/220404_SHERPA_best/single/cfg_NN_Creation_rasp_parcorr_single_prect.yml', \n",
    "'./nn_config/220404_SHERPA_best/single/cfg_NN_Creation_rasp_parcorr_single_fsnt.yml', \n",
    "'./nn_config/220404_SHERPA_best/single/cfg_NN_Creation_rasp_parcorr_single_phq_25-29.yml', \n",
    "'./nn_config/220404_SHERPA_best/single/cfg_NN_Creation_rasp_parcorr_single_tphystnd_10-14.yml', \n",
    "'./nn_config/220404_SHERPA_best/single/cfg_NN_Creation_rasp_parcorr_single_tphystnd_25-29.yml', \n",
    "'./nn_config/220404_SHERPA_best/single/cfg_NN_Creation_rasp_parcorr_single_phq_10-14.yml', \n",
    "'./nn_config/220404_SHERPA_best/single/cfg_NN_Creation_rasp_parcorr_single_tphystnd_5-9.yml'\n",
    "]"
   ]
  },
  {
   "cell_type": "code",
   "execution_count": null,
   "metadata": {},
   "outputs": [],
   "source": [
    "[\n",
    "    './nn_config/220404_SHERPA_best/pdf/cfg_NN_Creation_rasp_parcorr_pdf-0.56_tphystnd_10-14.yml', \n",
    "    './nn_config/220404_SHERPA_best/pdf/cfg_NN_Creation_rasp_parcorr_pdf-0.59_tphystnd_15-19.yml', \n",
    "    './nn_config/220404_SHERPA_best/pdf/cfg_NN_Creation_rasp_parcorr_pdf-0.59_tphystnd_25-29.yml', \n",
    "    './nn_config/220404_SHERPA_best/pdf/cfg_NN_Creation_rasp_parcorr_pdf-0.56_phq_15-19.yml', \n",
    "    './nn_config/220404_SHERPA_best/pdf/cfg_NN_Creation_rasp_parcorr_pdf-0.59_tphystnd_20-24.yml', \n",
    "    './nn_config/220404_SHERPA_best/pdf/cfg_NN_Creation_rasp_parcorr_pdf-0.56_phq_25-29.yml', \n",
    "    './nn_config/220404_SHERPA_best/pdf/cfg_NN_Creation_rasp_parcorr_pdf-0.59_phq_5-9.yml', \n",
    "    './nn_config/220404_SHERPA_best/pdf/cfg_NN_Creation_rasp_parcorr_pdf-0.56-0.59_fsns.yml', \n",
    "    './nn_config/220404_SHERPA_best/pdf/cfg_NN_Creation_rasp_parcorr_pdf-0.59_phq_15-19.yml', \n",
    "    './nn_config/220404_SHERPA_best/pdf/cfg_NN_Creation_rasp_parcorr_pdf-0.59_tphystnd_0-4.yml', \n",
    "    './nn_config/220404_SHERPA_best/pdf/cfg_NN_Creation_rasp_parcorr_pdf-0.59_phq_25-29.yml', \n",
    "    './nn_config/220404_SHERPA_best/pdf/cfg_NN_Creation_rasp_parcorr_pdf-0.56_phq_20-24.yml', \n",
    "    './nn_config/220404_SHERPA_best/pdf/cfg_NN_Creation_rasp_parcorr_pdf-0.56_tphystnd_20-24.yml', \n",
    "    './nn_config/220404_SHERPA_best/pdf/cfg_NN_Creation_rasp_parcorr_pdf-0.56_phq_5-9.yml', \n",
    "    './nn_config/220404_SHERPA_best/pdf/cfg_NN_Creation_rasp_parcorr_pdf-0.56_phq_10-14.yml', \n",
    "    './nn_config/220404_SHERPA_best/pdf/cfg_NN_Creation_rasp_parcorr_pdf-0.56_tphystnd_15-19.yml', \n",
    "    './nn_config/220404_SHERPA_best/pdf/cfg_NN_Creation_rasp_parcorr_pdf-0.56_phq_0-4.yml', \n",
    "    './nn_config/220404_SHERPA_best/pdf/cfg_NN_Creation_rasp_parcorr_pdf-0.56-0.59_flnt.yml', \n",
    "    './nn_config/220404_SHERPA_best/pdf/cfg_NN_Creation_rasp_parcorr_pdf-0.59_phq_10-14.yml', \n",
    "    './nn_config/220404_SHERPA_best/pdf/cfg_NN_Creation_rasp_parcorr_pdf-0.59_tphystnd_10-14.yml', \n",
    "    './nn_config/220404_SHERPA_best/pdf/cfg_NN_Creation_rasp_parcorr_pdf-0.56_tphystnd_5-9.yml', \n",
    "    './nn_config/220404_SHERPA_best/pdf/cfg_NN_Creation_rasp_parcorr_pdf-0.56-0.59_flns.yml',\n",
    "    './nn_config/220404_SHERPA_best/pdf/cfg_NN_Creation_rasp_parcorr_pdf-0.59_tphystnd_5-9.yml', \n",
    "    './nn_config/220404_SHERPA_best/pdf/cfg_NN_Creation_rasp_parcorr_pdf-0.56_tphystnd_0-4.yml', \n",
    "    './nn_config/220404_SHERPA_best/pdf/cfg_NN_Creation_rasp_parcorr_pdf-0.56-0.59_fsnt.yml', \n",
    "    './nn_config/220404_SHERPA_best/pdf/cfg_NN_Creation_rasp_parcorr_pdf-0.56-0.59_prect.yml', \n",
    "    './nn_config/220404_SHERPA_best/pdf/cfg_NN_Creation_rasp_parcorr_pdf-0.59_phq_20-24.yml', \n",
    "    './nn_config/220404_SHERPA_best/pdf/cfg_NN_Creation_rasp_parcorr_pdf-0.56_tphystnd_25-29.yml', \n",
    "    './nn_config/220404_SHERPA_best/pdf/cfg_NN_Creation_rasp_parcorr_pdf-0.59_phq_0-4.yml'\n",
    "]"
   ]
  }
 ],
 "metadata": {
  "kernelspec": {
   "display_name": "causalnncam",
   "language": "python",
   "name": "causalnncam"
  },
  "language_info": {
   "codemirror_mode": {
    "name": "ipython",
    "version": 3
   },
   "file_extension": ".py",
   "mimetype": "text/x-python",
   "name": "python",
   "nbconvert_exporter": "python",
   "pygments_lexer": "ipython3",
   "version": "3.8.5"
  }
 },
 "nbformat": 4,
 "nbformat_minor": 4
}
