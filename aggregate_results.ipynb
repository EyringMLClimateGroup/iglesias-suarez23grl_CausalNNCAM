{
 "cells": [
  {
   "cell_type": "markdown",
   "metadata": {},
   "source": [
    "# Analysis\n",
    "Load results files and run analysis on them"
   ]
  },
  {
   "cell_type": "markdown",
   "metadata": {},
   "source": [
    "# Main program"
   ]
  },
  {
   "cell_type": "markdown",
   "metadata": {},
   "source": [
    "## Specifications"
   ]
  },
  {
   "cell_type": "code",
   "execution_count": null,
   "metadata": {},
   "outputs": [],
   "source": [
    "import sys\n",
    "\n",
    "from utils.setup import SetupPCMCIAggregation\n",
    "import utils.pcmci_aggregation as aggregation\n",
    "\n",
    "# argv = sys.argv[1:] # Not used yet via slurm\n",
    "# argv = ['-c', './nn_config/cfg_pipeline.yml']\n",
    "# argv = ['-c', './nn_config/cfg_testing.yml']\n",
    "# argv = ['-c', './nn_config/cfg_pipeline_climate_invariant.yml']\n",
    "argv = ['-c', './nn_config/cfg_aggregate_results.yml']\n",
    "# argv = ['-c', './nn_config/cfg_aggregate_results_t-dt.yml']\n",
    "# argv = ['-c', './nn_config/tests/cfg_aggregate_results_test.yml']\n",
    "# argv = ['-c', './slurm_dkrz/cfg_pipeline_shared.yml']\n",
    "\n",
    "setup = SetupPCMCIAggregation(argv)\n"
   ]
  },
  {
   "cell_type": "markdown",
   "metadata": {},
   "source": [
    "## Collect results"
   ]
  },
  {
   "cell_type": "code",
   "execution_count": null,
   "metadata": {},
   "outputs": [],
   "source": [
    "# collected_results, errors = aggregation.collect_results(setup)\n",
    "collected_results, errors = aggregation.collect_results(setup, reuse=True)\n",
    "print(aggregation.print_errors(errors))"
   ]
  },
  {
   "cell_type": "markdown",
   "metadata": {},
   "source": [
    "## Analyze collected results"
   ]
  },
  {
   "cell_type": "code",
   "execution_count": null,
   "metadata": {},
   "outputs": [],
   "source": [
    "aggregated_results, var_names_parents = aggregation.aggregate_results(\n",
    "    collected_results, setup)\n",
    "# aggregation.print_aggregated_results(var_names_parents, aggregated_results)"
   ]
  },
  {
   "cell_type": "markdown",
   "metadata": {},
   "source": [
    "## Plots"
   ]
  },
  {
   "cell_type": "markdown",
   "metadata": {},
   "source": [
    "### Plot Outputs-Inputs metrics "
   ]
  },
  {
   "cell_type": "code",
   "execution_count": null,
   "metadata": {},
   "outputs": [],
   "source": [
    "# setup.thresholds = [0.58]\n",
    "aggregation.plot_matrix_results(\n",
    "    var_names_parents, \n",
    "    aggregated_results, \n",
    "    setup, \n",
    "    values='percentage', \n",
    "    save=True,\n",
    "    masking=True,\n",
    ")"
   ]
  },
  {
   "cell_type": "code",
   "execution_count": null,
   "metadata": {},
   "outputs": [],
   "source": [
    "aggregation.plot_matrix_results(\n",
    "    var_names_parents, \n",
    "    aggregated_results, \n",
    "    setup, \n",
    "    values='val_matrix', \n",
    "    save=False\n",
    ")"
   ]
  },
  {
   "cell_type": "markdown",
   "metadata": {},
   "source": [
    "### Plot causal-links metrics with regard to thresholds "
   ]
  },
  {
   "cell_type": "code",
   "execution_count": null,
   "metadata": {},
   "outputs": [],
   "source": [
    "aggregation.plot_causal_metrics(aggregated_results, setup, save=False)"
   ]
  },
  {
   "cell_type": "markdown",
   "metadata": {},
   "source": [
    "### Plot for each pc_alpha and threshold combination with all children"
   ]
  },
  {
   "cell_type": "code",
   "execution_count": null,
   "metadata": {},
   "outputs": [],
   "source": [
    "aggregation.plot_aggregated_results(var_names_parents, aggregated_results, setup)"
   ]
  },
  {
   "cell_type": "code",
   "execution_count": null,
   "metadata": {},
   "outputs": [],
   "source": []
  }
 ],
 "metadata": {
  "kernelspec": {
   "display_name": "causalnncam",
   "language": "python",
   "name": "causalnncam"
  },
  "language_info": {
   "codemirror_mode": {
    "name": "ipython",
    "version": 3
   },
   "file_extension": ".py",
   "mimetype": "text/x-python",
   "name": "python",
   "nbconvert_exporter": "python",
   "pygments_lexer": "ipython3",
   "version": "3.8.5"
  }
 },
 "nbformat": 4,
 "nbformat_minor": 4
}
