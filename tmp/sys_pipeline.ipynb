{
 "cells": [
  {
   "cell_type": "markdown",
   "metadata": {},
   "source": [
    "# ***DESCRIPTION*** \n",
    "## ***Run Tigramite (PCMCI) for SPCAM data with specified settings:***\n",
    "### Fixed:\n",
    "- PC-stable (i.e., MCI component not run)\n",
    "- tau_min/tau_max = -1\n",
    "- Significance: analytics\n",
    "- experiments: '002_train_1_year'\n",
    "- links: parents (state fields) -> children (parameterizations)\n",
    "### Options:\n",
    "- region: lat/lon limits (gridpoints to be used)\n",
    "- levels: children's levels to be explored\n",
    "- pc_alpha: list of value(s)"
   ]
  },
  {
   "cell_type": "code",
   "execution_count": 14,
   "metadata": {},
   "outputs": [],
   "source": [
    "# Python packages\n",
    "import sys, getopt\n",
    "import numpy                  as np\n",
    "from pathlib              import Path\n",
    "\n",
    "# Utils\n",
    "from   utils.constants    import SPCAM_Vars\n",
    "from   utils.constants    import DATA_FOLDER, ANCIL_FILE, tau_min, tau_max, significance, experiment\n",
    "import utils.utils            as utils\n",
    "import utils.links            as links\n",
    "import utils.pcmci_algorithm  as algorithm"
   ]
  },
  {
   "cell_type": "markdown",
   "metadata": {},
   "source": [
    "## Variables to be processed"
   ]
  },
  {
   "cell_type": "code",
   "execution_count": null,
   "metadata": {},
   "outputs": [],
   "source": [
    "argv           = sys.argv[1:]\n",
    "print (argv)\n",
    "spcam_parents  = ['tbp','qbp','vbp','ps','solin','shflx','lhflx']\n",
    "spcam_children = ['tphystnd','prect', 'fsns', 'flns']\n",
    "pc_alphas      = [0.001,0.002,0.005,0.01,0.02,0.05,0.1,0.2]\n",
    "region         = None\n",
    "lim_levels     = None\n",
    "target_levels  = None\n",
    "try:\n",
    "    opts, args = getopt.getopt(argv,\"hp:c:a:r:l:t\",[\"parents=\",\"children=\",\n",
    "                                                    \"pc_alphas=\",\"region=\",\n",
    "                                                    \"lim_levels=\",\"target_levels=\"])\n",
    "except getopt.GetoptError:\n",
    "    print ('pipeline.py -p [parents] -c [children] -a [pc_alphas] -r [region] -l [lim_levels] -t [target_l\n",
    "evels]')\n",
    "    sys.exit(2)\n",
    "for opt, arg in opts:\n",
    "    print(opt, arg)\n",
    "    if opt == '-h':\n",
    "        print ('pipeline.py -p [parents] -c [children]')\n",
    "        sys.exit()\n",
    "    elif opt in (\"-p\", \"--parents\"):\n",
    "        spcam_parents = arg\n",
    "    elif opt in (\"-c\", \"--children\"):\n",
    "        spcam_children = arg\n",
    "    elif opt in (\"-a\", \"--pc_alphas\"):\n",
    "        pc_alphas = arg\n",
    "    elif opt in (\"-r\", \"--region\"):\n",
    "        region = arg\n",
    "    elif opt in (\"-l\", \"--lim_levels\"):\n",
    "        lim_levels = arg\n",
    "    elif opt in (\"-t\", \"--target_levels\"):\n",
    "        target_levels = arg\n",
    "print ('Parents are: ', spcam_parents)\n",
    "print ('Children are: ', spcam_children)\n",
    "print ('PC-alphas are: ', pc_alphas)\n",
    "print ('Region is: ', region)\n",
    "print ('lim_levels are: ', lim_levels)\n",
    "print ('target_levels are: ', target_levels)"
   ]
  },
  {
   "cell_type": "code",
   "execution_count": null,
   "metadata": {},
   "outputs": [],
   "source": [
    "# spcam_parents  = ['tbp','qbp','vbp','ps','solin','shflx','lhflx']\n",
    "# spcam_children = ['tphystnd','prect', 'fsns', 'flns']\n",
    "# region         = None\n",
    "# lim_levels     = None\n",
    "# target_levels  = None\n",
    "# list_pc_alpha  = [0.001, 0.002, 0.005, 0.01, 0.02, 0.05, 0.1, 0.2]\n",
    "# try:\n",
    "#     opts, args = getopt.getopt(argv,\"hp:c:r:l:t:a\",[\"parents=\",\"children=\",\n",
    "#                                                     \"region=\",\"lim_levels=\",\n",
    "#                                                     \"target_levels=\",\"pc-alpha\"])\n",
    "# except getopt.GetoptError:\n",
    "#     print ('pipeline.py -p [parents] -c [children] -r [region] -l [lim_levels] -t [target_levels] -a [pc-alpha]')\n",
    "#     sys.exit(2)\n",
    "# for opt, arg in opts:\n",
    "#     print(opt, arg)\n",
    "#     if opt == '-h':\n",
    "#         print ('pipeline.py -p [parents] -c [children]')\n",
    "#         sys.exit()\n",
    "#     elif opt in (\"-p\", \"--parents\"):\n",
    "#         spcam_parents = arg\n",
    "#     elif opt in (\"-c\", \"--children\"):\n",
    "#         spcam_children = arg\n",
    "#     elif opt in (\"-r\", \"--region\"):\n",
    "#         region = arg\n",
    "#     elif opt in (\"-l\", \"--lim_levels\"):\n",
    "#         lim_levels = arg\n",
    "#     elif opt in (\"-t\", \"--target_levels\"):\n",
    "#         target_levels = arg\n",
    "#     elif opt in (\"-a\", \"--pc-alpha\"):\n",
    "#         list_pc_alpha = arg\n",
    "# print ('Parents are: ', spcam_parents)\n",
    "# print ('Children are: ', spcam_children)\n",
    "# print ('Region is: ', region)\n",
    "# print ('lim_levels are: ', lim_levels)\n",
    "# print ('target_levels are: ', target_levels)\n",
    "# print ('pc-alpha is: ', list_pc_alpha)"
   ]
  }
 ],
 "metadata": {
  "kernelspec": {
   "display_name": "tg38plus",
   "language": "python",
   "name": "tg38plus"
  },
  "language_info": {
   "codemirror_mode": {
    "name": "ipython",
    "version": 3
   },
   "file_extension": ".py",
   "mimetype": "text/x-python",
   "name": "python",
   "nbconvert_exporter": "python",
   "pygments_lexer": "ipython3",
   "version": "3.8.5"
  }
 },
 "nbformat": 4,
 "nbformat_minor": 4
}
